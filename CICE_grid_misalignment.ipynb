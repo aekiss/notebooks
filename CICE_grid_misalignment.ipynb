{
 "cells": [
  {
   "cell_type": "markdown",
   "metadata": {},
   "source": [
    "checks for this CICE grid misalignment issue https://github.com/COSIMA/access-om2/issues/190"
   ]
  },
  {
   "cell_type": "code",
   "execution_count": 1,
   "metadata": {},
   "outputs": [],
   "source": [
    "from netCDF4 import Dataset # to work with NetCDF files\n",
    "import numpy as np\n",
    "# import scipy as sp\n",
    "# import xarray as xr"
   ]
  },
  {
   "cell_type": "code",
   "execution_count": 2,
   "metadata": {
    "scrolled": false
   },
   "outputs": [
    {
     "name": "stdout",
     "output_type": "stream",
     "text": [
      "/g/data/ik11/inputs/access-om2/input_38570c62/cice_1deg/grid.nc\n",
      "max ulat:  89.99999930282699    max tlat:  89.74870618590074\n",
      "/g/data/ik11/inputs/access-om2/input_38570c62/cice_025deg/grid.nc\n",
      "max ulat:  90.0    max tlat:  89.94042815946277\n",
      "/g/data/ik11/inputs/access-om2/input_38570c62/cice_01deg/grid.nc\n",
      "max ulat:  89.9577764210665    max tlat:  89.97616087629147\n"
     ]
    }
   ],
   "source": [
    "basedir = '/g/data/ik11/inputs/access-om2/input_rc/'\n",
    "basedir = '/g/data/ik11/inputs/access-om2/input_38570c62/'\n",
    "basedir = '/g/data/ik11/inputs/access-om2/input_38570c62/'\n",
    "subdirs = ['cice_1deg','cice_025deg','cice_01deg']\n",
    "\n",
    "# subdirs = ['cice_01deg']\n",
    "\n",
    "for sd in subdirs:\n",
    "        f = basedir+sd+'/grid.nc'\n",
    "#         f = '/g/data/hh5/tmp/cosima/access-om2-01/01deg_jra55v13_iaf/restart000/ice/grid.nc'\n",
    "        ncFile = Dataset(f,'r')\n",
    "        ulat = ncFile.variables['ulat']\n",
    "        tlat = ncFile.variables['tlat']\n",
    "        print(f)\n",
    "        print('max ulat: ', np.max(ulat)*180/np.pi, '   max tlat: ', np.max(tlat)*180/np.pi )\n",
    "        "
   ]
  },
  {
   "cell_type": "code",
   "execution_count": null,
   "metadata": {},
   "outputs": [],
   "source": []
  }
 ],
 "metadata": {
  "kernelspec": {
   "display_name": "Python [conda env:analysis3-19.10] *",
   "language": "python",
   "name": "conda-env-analysis3-19.10-py"
  },
  "language_info": {
   "codemirror_mode": {
    "name": "ipython",
    "version": 3
   },
   "file_extension": ".py",
   "mimetype": "text/x-python",
   "name": "python",
   "nbconvert_exporter": "python",
   "pygments_lexer": "ipython3",
   "version": "3.6.7"
  }
 },
 "nbformat": 4,
 "nbformat_minor": 2
}
