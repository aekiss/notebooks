{
 "cells": [
  {
   "cell_type": "code",
   "execution_count": 1,
   "metadata": {},
   "outputs": [
    {
     "name": "stdout",
     "output_type": "stream",
     "text": [
      "netcdf_index loaded.\n"
     ]
    }
   ],
   "source": [
    "import cosima_cookbook as cc\n",
    "import os"
   ]
  },
  {
   "cell_type": "code",
   "execution_count": 2,
   "metadata": {},
   "outputs": [
    {
     "name": "stdout",
     "output_type": "stream",
     "text": [
      "\n",
      "Indexed 7799 variables found in new files\n",
      "Saving results in database sqlite:////g/data3/hh5/tmp/cosima/access-om2-01/01deg_jra55v13_iaf/cosima-cookbook.db... \n",
      "Finding runs in /g/data3/hh5/tmp/cosima/access-om2-01/01deg_jra55v13_ryf8485_spinup6... found 432 run directories\n",
      "Using database sqlite:////g/data3/hh5/tmp/cosima/access-om2-01/01deg_jra55v13_ryf8485_spinup6/cosima-cookbook.db\n",
      "Querying database for directories... run directories already indexed: 432\n",
      "No new runs found in /g/data3/hh5/tmp/cosima/access-om2-01/01deg_jra55v13_ryf8485_spinup6\n",
      "Indexing complete.\n"
     ]
    },
    {
     "data": {
      "text/plain": [
       "True"
      ]
     },
     "execution_count": 2,
     "metadata": {},
     "output_type": "execute_result"
    }
   ],
   "source": [
    "cc.build_index(expt_dir_list=['/g/data3/hh5/tmp/cosima/access-om2-01/01deg_jra55v13_iaf/','/g/data3/hh5/tmp/cosima/access-om2-01/01deg_jra55v13_ryf8485_spinup6'])"
   ]
  },
  {
   "cell_type": "code",
   "execution_count": 8,
   "metadata": {},
   "outputs": [
    {
     "name": "stdout",
     "output_type": "stream",
     "text": [
      "Reading from cache file cache_get_nc_variable_01deg_jra55v13_iaf_ocean.nc_salt_None_days-since-1900-01-01_None_False.pkl\n"
     ]
    }
   ],
   "source": [
    "t = cc.get_nc_variable('/g/data3/hh5/tmp/cosima/access-om2-01/01deg_jra55v13_iaf/','ocean.nc','salt',use_cache=True)"
   ]
  },
  {
   "cell_type": "code",
   "execution_count": 5,
   "metadata": {},
   "outputs": [
    {
     "name": "stdout",
     "output_type": "stream",
     "text": [
      "\n",
      "Indexed 19785 variables found in new files\n",
      "Saving results in database sqlite:////g/data3/hh5/tmp/cosima/cosima-cookbook/cosima-cookbook.db... \n",
      "Finding runs in /g/data1/v45/APE-MOM... found 218 run directories\n",
      "Using database sqlite:////g/data3/hh5/tmp/cosima/cosima-cookbook/cosima-cookbook.db\n",
      "No new runs found in /g/data1/v45/APE-MOM\n",
      "Indexing complete.\n"
     ]
    },
    {
     "data": {
      "text/plain": [
       "True"
      ]
     },
     "execution_count": 5,
     "metadata": {},
     "output_type": "execute_result"
    }
   ],
   "source": [
    "cc.build_index()"
   ]
  },
  {
   "cell_type": "code",
   "execution_count": 6,
   "metadata": {},
   "outputs": [],
   "source": [
    "from collections import OrderedDict\n",
    "\n",
    "basedir = '/g/data3/hh5/tmp/cosima/'\n",
    "\n",
    "# Model data sources. \n",
    "# More experiments (or variables each experiment) can be added here if needed.\n",
    "# locals().update(exptdata.exptdict['1deg']) will define all variables for the '1deg' experiment (dangerous!).\n",
    "# exptdir = exptdata.expdict[expkey]['exptdir'] etc is safer.\n",
    "# desc is a short descriptor for use in figure titles.\n",
    "# Uses OrderedDict so that iteration on exptdict will be in this order.\n",
    "exptdict = OrderedDict([\n",
    "    ('1deg',   {'model':'access-om2',     'expt':'1deg_jra55v13_iaf_spinup1_A',\n",
    "                'desc': 'ACCESS-OM2 (1 degree), IAF forcing','n_files':None,\n",
    "                'time_units':'days since 1718-01-01','offset':-87658}),\n",
    "    ('025deg-iaf', {'model':'access-om2-025', 'expt':'025deg_jra55v13_iaf',\n",
    "                    'desc': 'ACCESS-OM2-025 (0.25 degree), IAF forcing','n_files':None,\n",
    "                    'time_units':'days since 1718-01-01','offset':-87658}),\n",
    "    ('025deg-ryf', {'model':'access-om2-025', 'expt':'025deg_jra55v13_ryf8485_KDS50',\n",
    "                    'desc': 'ACCESS-OM2-025 (0.25 degree), RYF8485 forcing','n_files':20,\n",
    "                    'time_units':None,'offset':None}),\n",
    "    ('01deg',  {'model':'access-om2-01',  'expt':'01deg_jra55v13_ryf8485_spinup6',\n",
    "                'desc': 'ACCESS-OM2-01 (0.1 degree), RYF8485 forcing','n_files':410,\n",
    "                    'time_units':'days since 1900-01-01','offset':None})\n",
    "])\n",
    "\n",
    "# Now add expdirs programmatically where they don't already exist.\n",
    "# This allows expdir to be overridden by specifying it above if needed.\n",
    "for k in exptdict.keys():\n",
    "    if not('exptdir' in exptdict[k]):\n",
    "        exptdict[k]['exptdir'] = os.path.join(os.path.join(\n",
    "            basedir, \n",
    "            exptdict[k]['model']),\n",
    "            exptdict[k]['expt' ])\n",
    "\n",
    "\n",
    "# Lists of models, experiments dirs and descriptors in consistent order\n",
    "\n",
    "models    = [exptdict[k]['model']   for k in exptdict.keys()]\n",
    "\n",
    "expts     = [exptdict[k]['expt']    for k in exptdict.keys()]\n",
    "\n",
    "exptdirs  = [exptdict[k]['exptdir'] for k in exptdict.keys()]\n",
    "\n",
    "descs     = [exptdict[k]['desc']    for k in exptdict.keys()]\n"
   ]
  },
  {
   "cell_type": "code",
   "execution_count": 7,
   "metadata": {},
   "outputs": [
    {
     "data": {
      "text/plain": [
       "['/g/data3/hh5/tmp/cosima/access-om2/1deg_jra55v13_iaf_spinup1_A',\n",
       " '/g/data3/hh5/tmp/cosima/access-om2-025/025deg_jra55v13_iaf',\n",
       " '/g/data3/hh5/tmp/cosima/access-om2-025/025deg_jra55v13_ryf8485_KDS50',\n",
       " '/g/data3/hh5/tmp/cosima/access-om2-01/01deg_jra55v13_ryf8485_spinup6']"
      ]
     },
     "execution_count": 7,
     "metadata": {},
     "output_type": "execute_result"
    }
   ],
   "source": [
    "exptdirs"
   ]
  },
  {
   "cell_type": "code",
   "execution_count": 8,
   "metadata": {},
   "outputs": [
    {
     "name": "stdout",
     "output_type": "stream",
     "text": [
      "Finding runs in /g/data3/hh5/tmp/cosima/access-om2-01/01deg_jra55v13_ryf8485_spinup6... found 432 run directories\n",
      "Using database sqlite:////g/data3/hh5/tmp/cosima/access-om2-01/01deg_jra55v13_ryf8485_spinup6/cosima-cookbook.db\n",
      "Querying database for directories... run directories already indexed: 432\n",
      "No new runs found in /g/data3/hh5/tmp/cosima/access-om2-01/01deg_jra55v13_ryf8485_spinup6\n",
      "Indexing complete.\n"
     ]
    },
    {
     "data": {
      "text/plain": [
       "True"
      ]
     },
     "execution_count": 8,
     "metadata": {},
     "output_type": "execute_result"
    }
   ],
   "source": [
    "cc.build_index(expt_dir_list='/g/data3/hh5/tmp/cosima/access-om2-01/01deg_jra55v13_ryf8485_spinup6')"
   ]
  },
  {
   "cell_type": "markdown",
   "metadata": {},
   "source": [
    "# new issue\n",
    "https://github.com/OceansAus/cosima-cookbook/issues/99"
   ]
  },
  {
   "cell_type": "code",
   "execution_count": 1,
   "metadata": {},
   "outputs": [
    {
     "name": "stdout",
     "output_type": "stream",
     "text": [
      "netcdf_index loaded.\n",
      "Using database sqlite:////g/data3/hh5/tmp/cosima/cosima-cookbook/cosima-cookbook.db\n"
     ]
    },
    {
     "data": {
      "application/vnd.jupyter.widget-view+json": {
       "model_id": "",
       "version_major": 2,
       "version_minor": 0
      },
      "text/plain": [
       "HBox(children=(IntProgress(value=0, description='get_nc_variable:', max=3600), HTML(value='')))"
      ]
     },
     "metadata": {},
     "output_type": "display_data"
    },
    {
     "name": "stdout",
     "output_type": "stream",
     "text": [
      "\r"
     ]
    },
    {
     "data": {
      "text/plain": [
       "<xarray.DataArray 'vicen_m' (time: 3600, nc: 5, nj: 300, ni: 360)>\n",
       "dask.array<shape=(3600, 5, 300, 360), dtype=float32, chunksize=(1, 5, 300, 360)>\n",
       "Coordinates:\n",
       "    TLON     (time, nj, ni) float32 dask.array<shape=(3600, 300, 360), chunksize=(1, 300, 360)>\n",
       "    TLAT     (time, nj, ni) float32 dask.array<shape=(3600, 300, 360), chunksize=(1, 300, 360)>\n",
       "  * time     (time) datetime64[ns] 1900-02-01 1900-03-01 1900-04-01 ...\n",
       "    ULAT     (time, nj, ni) float32 dask.array<shape=(3600, 300, 360), chunksize=(1, 300, 360)>\n",
       "    ULON     (time, nj, ni) float32 dask.array<shape=(3600, 300, 360), chunksize=(1, 300, 360)>\n",
       "    NCAT     (time, nc) float32 dask.array<shape=(3600, 5), chunksize=(1, 5)>\n",
       "Dimensions without coordinates: nc, nj, ni\n",
       "Attributes:\n",
       "    units:          m\n",
       "    long_name:      ice volume, categories\n",
       "    cell_measures:  area: tarea\n",
       "    cell_methods:   time: mean\n",
       "    time_rep:       averaged"
      ]
     },
     "execution_count": 1,
     "metadata": {},
     "output_type": "execute_result"
    }
   ],
   "source": [
    "import cosima_cookbook as cc\n",
    "cc.get_nc_variable('1deg_jra55v13_iaf_spinup1_A', 'iceh.????-??.nc', 'vicen_m')\n"
   ]
  },
  {
   "cell_type": "code",
   "execution_count": null,
   "metadata": {},
   "outputs": [],
   "source": []
  }
 ],
 "metadata": {
  "kernelspec": {
   "display_name": "Python [conda env:analysis3-18.04]",
   "language": "python",
   "name": "conda-env-analysis3-18.04-py"
  },
  "language_info": {
   "codemirror_mode": {
    "name": "ipython",
    "version": 3
   },
   "file_extension": ".py",
   "mimetype": "text/x-python",
   "name": "python",
   "nbconvert_exporter": "python",
   "pygments_lexer": "ipython3",
   "version": "3.6.5"
  }
 },
 "nbformat": 4,
 "nbformat_minor": 2
}
