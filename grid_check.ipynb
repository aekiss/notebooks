{
 "cells": [
  {
   "cell_type": "markdown",
   "id": "99366b4c-da29-49a0-b021-d3b86708d007",
   "metadata": {},
   "source": [
    "# Grid checks\n",
    "- https://github.com/COSIMA/access-om3/issues/101\n",
    "- https://github.com/COSIMA/access-om2/issues/190\n",
    "- https://github.com/COSIMA/access-om2/issues/129\n",
    "- https://github.com/COSIMA/access-om2/issues/271"
   ]
  },
  {
   "cell_type": "code",
   "execution_count": 3,
   "id": "078f4456-c053-40ea-82e7-452ac2590d51",
   "metadata": {},
   "outputs": [],
   "source": [
    "import xarray as xr\n",
    "import numpy as np"
   ]
  },
  {
   "cell_type": "markdown",
   "id": "232045eb-aaba-4877-a415-27eeea0e6f60",
   "metadata": {},
   "source": [
    "## 1 deg\n",
    "\n",
    "### CICE\n",
    "- ulon -278.99999784... 79.99999938\n",
    "- tlon -279.49999783... 79.49999938\n",
    "\n",
    "u points at NE corner\n",
    "\n",
    "**Both latitudes and longitudes differ slightly from MOM grid**\n",
    "- Were CICE coords converted from to single precision then back to double? Could explain https://github.com/COSIMA/access-om2/issues/271?\n",
    "\n",
    "### MOM supergrid\n",
    "- -280... 80"
   ]
  },
  {
   "cell_type": "raw",
   "id": "d7041fe7-3a0e-484e-8c66-c4dc5ea46161",
   "metadata": {
    "collapsed": true,
    "jupyter": {
     "outputs_hidden": true
    }
   },
   "source": [
    "cice1_grid = xr.open_dataset('/g/data/ik11/inputs/access-om3/0.x.0/1deg/cice/grid.nc')\n",
    "np.rad2deg(cice1_grid.ulon.isel(ny=0).values)"
   ]
  },
  {
   "cell_type": "code",
   "execution_count": 5,
   "id": "a40952aa-c601-4e06-9f4c-11a0b3577b4c",
   "metadata": {
    "collapsed": true,
    "jupyter": {
     "outputs_hidden": true
    }
   },
   "outputs": [
    {
     "data": {
      "text/html": [
       "<div><svg style=\"position: absolute; width: 0; height: 0; overflow: hidden\">\n",
       "<defs>\n",
       "<symbol id=\"icon-database\" viewBox=\"0 0 32 32\">\n",
       "<path d=\"M16 0c-8.837 0-16 2.239-16 5v4c0 2.761 7.163 5 16 5s16-2.239 16-5v-4c0-2.761-7.163-5-16-5z\"></path>\n",
       "<path d=\"M16 17c-8.837 0-16-2.239-16-5v6c0 2.761 7.163 5 16 5s16-2.239 16-5v-6c0 2.761-7.163 5-16 5z\"></path>\n",
       "<path d=\"M16 26c-8.837 0-16-2.239-16-5v6c0 2.761 7.163 5 16 5s16-2.239 16-5v-6c0 2.761-7.163 5-16 5z\"></path>\n",
       "</symbol>\n",
       "<symbol id=\"icon-file-text2\" viewBox=\"0 0 32 32\">\n",
       "<path d=\"M28.681 7.159c-0.694-0.947-1.662-2.053-2.724-3.116s-2.169-2.030-3.116-2.724c-1.612-1.182-2.393-1.319-2.841-1.319h-15.5c-1.378 0-2.5 1.121-2.5 2.5v27c0 1.378 1.122 2.5 2.5 2.5h23c1.378 0 2.5-1.122 2.5-2.5v-19.5c0-0.448-0.137-1.23-1.319-2.841zM24.543 5.457c0.959 0.959 1.712 1.825 2.268 2.543h-4.811v-4.811c0.718 0.556 1.584 1.309 2.543 2.268zM28 29.5c0 0.271-0.229 0.5-0.5 0.5h-23c-0.271 0-0.5-0.229-0.5-0.5v-27c0-0.271 0.229-0.5 0.5-0.5 0 0 15.499-0 15.5 0v7c0 0.552 0.448 1 1 1h7v19.5z\"></path>\n",
       "<path d=\"M23 26h-14c-0.552 0-1-0.448-1-1s0.448-1 1-1h14c0.552 0 1 0.448 1 1s-0.448 1-1 1z\"></path>\n",
       "<path d=\"M23 22h-14c-0.552 0-1-0.448-1-1s0.448-1 1-1h14c0.552 0 1 0.448 1 1s-0.448 1-1 1z\"></path>\n",
       "<path d=\"M23 18h-14c-0.552 0-1-0.448-1-1s0.448-1 1-1h14c0.552 0 1 0.448 1 1s-0.448 1-1 1z\"></path>\n",
       "</symbol>\n",
       "</defs>\n",
       "</svg>\n",
       "<style>/* CSS stylesheet for displaying xarray objects in jupyterlab.\n",
       " *\n",
       " */\n",
       "\n",
       ":root {\n",
       "  --xr-font-color0: var(--jp-content-font-color0, rgba(0, 0, 0, 1));\n",
       "  --xr-font-color2: var(--jp-content-font-color2, rgba(0, 0, 0, 0.54));\n",
       "  --xr-font-color3: var(--jp-content-font-color3, rgba(0, 0, 0, 0.38));\n",
       "  --xr-border-color: var(--jp-border-color2, #e0e0e0);\n",
       "  --xr-disabled-color: var(--jp-layout-color3, #bdbdbd);\n",
       "  --xr-background-color: var(--jp-layout-color0, white);\n",
       "  --xr-background-color-row-even: var(--jp-layout-color1, white);\n",
       "  --xr-background-color-row-odd: var(--jp-layout-color2, #eeeeee);\n",
       "}\n",
       "\n",
       "html[theme=dark],\n",
       "body[data-theme=dark],\n",
       "body.vscode-dark {\n",
       "  --xr-font-color0: rgba(255, 255, 255, 1);\n",
       "  --xr-font-color2: rgba(255, 255, 255, 0.54);\n",
       "  --xr-font-color3: rgba(255, 255, 255, 0.38);\n",
       "  --xr-border-color: #1F1F1F;\n",
       "  --xr-disabled-color: #515151;\n",
       "  --xr-background-color: #111111;\n",
       "  --xr-background-color-row-even: #111111;\n",
       "  --xr-background-color-row-odd: #313131;\n",
       "}\n",
       "\n",
       ".xr-wrap {\n",
       "  display: block !important;\n",
       "  min-width: 300px;\n",
       "  max-width: 700px;\n",
       "}\n",
       "\n",
       ".xr-text-repr-fallback {\n",
       "  /* fallback to plain text repr when CSS is not injected (untrusted notebook) */\n",
       "  display: none;\n",
       "}\n",
       "\n",
       ".xr-header {\n",
       "  padding-top: 6px;\n",
       "  padding-bottom: 6px;\n",
       "  margin-bottom: 4px;\n",
       "  border-bottom: solid 1px var(--xr-border-color);\n",
       "}\n",
       "\n",
       ".xr-header > div,\n",
       ".xr-header > ul {\n",
       "  display: inline;\n",
       "  margin-top: 0;\n",
       "  margin-bottom: 0;\n",
       "}\n",
       "\n",
       ".xr-obj-type,\n",
       ".xr-array-name {\n",
       "  margin-left: 2px;\n",
       "  margin-right: 10px;\n",
       "}\n",
       "\n",
       ".xr-obj-type {\n",
       "  color: var(--xr-font-color2);\n",
       "}\n",
       "\n",
       ".xr-sections {\n",
       "  padding-left: 0 !important;\n",
       "  display: grid;\n",
       "  grid-template-columns: 150px auto auto 1fr 20px 20px;\n",
       "}\n",
       "\n",
       ".xr-section-item {\n",
       "  display: contents;\n",
       "}\n",
       "\n",
       ".xr-section-item input {\n",
       "  display: none;\n",
       "}\n",
       "\n",
       ".xr-section-item input + label {\n",
       "  color: var(--xr-disabled-color);\n",
       "}\n",
       "\n",
       ".xr-section-item input:enabled + label {\n",
       "  cursor: pointer;\n",
       "  color: var(--xr-font-color2);\n",
       "}\n",
       "\n",
       ".xr-section-item input:enabled + label:hover {\n",
       "  color: var(--xr-font-color0);\n",
       "}\n",
       "\n",
       ".xr-section-summary {\n",
       "  grid-column: 1;\n",
       "  color: var(--xr-font-color2);\n",
       "  font-weight: 500;\n",
       "}\n",
       "\n",
       ".xr-section-summary > span {\n",
       "  display: inline-block;\n",
       "  padding-left: 0.5em;\n",
       "}\n",
       "\n",
       ".xr-section-summary-in:disabled + label {\n",
       "  color: var(--xr-font-color2);\n",
       "}\n",
       "\n",
       ".xr-section-summary-in + label:before {\n",
       "  display: inline-block;\n",
       "  content: '►';\n",
       "  font-size: 11px;\n",
       "  width: 15px;\n",
       "  text-align: center;\n",
       "}\n",
       "\n",
       ".xr-section-summary-in:disabled + label:before {\n",
       "  color: var(--xr-disabled-color);\n",
       "}\n",
       "\n",
       ".xr-section-summary-in:checked + label:before {\n",
       "  content: '▼';\n",
       "}\n",
       "\n",
       ".xr-section-summary-in:checked + label > span {\n",
       "  display: none;\n",
       "}\n",
       "\n",
       ".xr-section-summary,\n",
       ".xr-section-inline-details {\n",
       "  padding-top: 4px;\n",
       "  padding-bottom: 4px;\n",
       "}\n",
       "\n",
       ".xr-section-inline-details {\n",
       "  grid-column: 2 / -1;\n",
       "}\n",
       "\n",
       ".xr-section-details {\n",
       "  display: none;\n",
       "  grid-column: 1 / -1;\n",
       "  margin-bottom: 5px;\n",
       "}\n",
       "\n",
       ".xr-section-summary-in:checked ~ .xr-section-details {\n",
       "  display: contents;\n",
       "}\n",
       "\n",
       ".xr-array-wrap {\n",
       "  grid-column: 1 / -1;\n",
       "  display: grid;\n",
       "  grid-template-columns: 20px auto;\n",
       "}\n",
       "\n",
       ".xr-array-wrap > label {\n",
       "  grid-column: 1;\n",
       "  vertical-align: top;\n",
       "}\n",
       "\n",
       ".xr-preview {\n",
       "  color: var(--xr-font-color3);\n",
       "}\n",
       "\n",
       ".xr-array-preview,\n",
       ".xr-array-data {\n",
       "  padding: 0 5px !important;\n",
       "  grid-column: 2;\n",
       "}\n",
       "\n",
       ".xr-array-data,\n",
       ".xr-array-in:checked ~ .xr-array-preview {\n",
       "  display: none;\n",
       "}\n",
       "\n",
       ".xr-array-in:checked ~ .xr-array-data,\n",
       ".xr-array-preview {\n",
       "  display: inline-block;\n",
       "}\n",
       "\n",
       ".xr-dim-list {\n",
       "  display: inline-block !important;\n",
       "  list-style: none;\n",
       "  padding: 0 !important;\n",
       "  margin: 0;\n",
       "}\n",
       "\n",
       ".xr-dim-list li {\n",
       "  display: inline-block;\n",
       "  padding: 0;\n",
       "  margin: 0;\n",
       "}\n",
       "\n",
       ".xr-dim-list:before {\n",
       "  content: '(';\n",
       "}\n",
       "\n",
       ".xr-dim-list:after {\n",
       "  content: ')';\n",
       "}\n",
       "\n",
       ".xr-dim-list li:not(:last-child):after {\n",
       "  content: ',';\n",
       "  padding-right: 5px;\n",
       "}\n",
       "\n",
       ".xr-has-index {\n",
       "  font-weight: bold;\n",
       "}\n",
       "\n",
       ".xr-var-list,\n",
       ".xr-var-item {\n",
       "  display: contents;\n",
       "}\n",
       "\n",
       ".xr-var-item > div,\n",
       ".xr-var-item label,\n",
       ".xr-var-item > .xr-var-name span {\n",
       "  background-color: var(--xr-background-color-row-even);\n",
       "  margin-bottom: 0;\n",
       "}\n",
       "\n",
       ".xr-var-item > .xr-var-name:hover span {\n",
       "  padding-right: 5px;\n",
       "}\n",
       "\n",
       ".xr-var-list > li:nth-child(odd) > div,\n",
       ".xr-var-list > li:nth-child(odd) > label,\n",
       ".xr-var-list > li:nth-child(odd) > .xr-var-name span {\n",
       "  background-color: var(--xr-background-color-row-odd);\n",
       "}\n",
       "\n",
       ".xr-var-name {\n",
       "  grid-column: 1;\n",
       "}\n",
       "\n",
       ".xr-var-dims {\n",
       "  grid-column: 2;\n",
       "}\n",
       "\n",
       ".xr-var-dtype {\n",
       "  grid-column: 3;\n",
       "  text-align: right;\n",
       "  color: var(--xr-font-color2);\n",
       "}\n",
       "\n",
       ".xr-var-preview {\n",
       "  grid-column: 4;\n",
       "}\n",
       "\n",
       ".xr-index-preview {\n",
       "  grid-column: 2 / 5;\n",
       "  color: var(--xr-font-color2);\n",
       "}\n",
       "\n",
       ".xr-var-name,\n",
       ".xr-var-dims,\n",
       ".xr-var-dtype,\n",
       ".xr-preview,\n",
       ".xr-attrs dt {\n",
       "  white-space: nowrap;\n",
       "  overflow: hidden;\n",
       "  text-overflow: ellipsis;\n",
       "  padding-right: 10px;\n",
       "}\n",
       "\n",
       ".xr-var-name:hover,\n",
       ".xr-var-dims:hover,\n",
       ".xr-var-dtype:hover,\n",
       ".xr-attrs dt:hover {\n",
       "  overflow: visible;\n",
       "  width: auto;\n",
       "  z-index: 1;\n",
       "}\n",
       "\n",
       ".xr-var-attrs,\n",
       ".xr-var-data,\n",
       ".xr-index-data {\n",
       "  display: none;\n",
       "  background-color: var(--xr-background-color) !important;\n",
       "  padding-bottom: 5px !important;\n",
       "}\n",
       "\n",
       ".xr-var-attrs-in:checked ~ .xr-var-attrs,\n",
       ".xr-var-data-in:checked ~ .xr-var-data,\n",
       ".xr-index-data-in:checked ~ .xr-index-data {\n",
       "  display: block;\n",
       "}\n",
       "\n",
       ".xr-var-data > table {\n",
       "  float: right;\n",
       "}\n",
       "\n",
       ".xr-var-name span,\n",
       ".xr-var-data,\n",
       ".xr-index-name div,\n",
       ".xr-index-data,\n",
       ".xr-attrs {\n",
       "  padding-left: 25px !important;\n",
       "}\n",
       "\n",
       ".xr-attrs,\n",
       ".xr-var-attrs,\n",
       ".xr-var-data,\n",
       ".xr-index-data {\n",
       "  grid-column: 1 / -1;\n",
       "}\n",
       "\n",
       "dl.xr-attrs {\n",
       "  padding: 0;\n",
       "  margin: 0;\n",
       "  display: grid;\n",
       "  grid-template-columns: 125px auto;\n",
       "}\n",
       "\n",
       ".xr-attrs dt,\n",
       ".xr-attrs dd {\n",
       "  padding: 0;\n",
       "  margin: 0;\n",
       "  float: left;\n",
       "  padding-right: 10px;\n",
       "  width: auto;\n",
       "}\n",
       "\n",
       ".xr-attrs dt {\n",
       "  font-weight: normal;\n",
       "  grid-column: 1;\n",
       "}\n",
       "\n",
       ".xr-attrs dt:hover span {\n",
       "  display: inline-block;\n",
       "  background: var(--xr-background-color);\n",
       "  padding-right: 10px;\n",
       "}\n",
       "\n",
       ".xr-attrs dd {\n",
       "  grid-column: 2;\n",
       "  white-space: pre-wrap;\n",
       "  word-break: break-all;\n",
       "}\n",
       "\n",
       ".xr-icon-database,\n",
       ".xr-icon-file-text2,\n",
       ".xr-no-icon {\n",
       "  display: inline-block;\n",
       "  vertical-align: middle;\n",
       "  width: 1em;\n",
       "  height: 1.5em !important;\n",
       "  stroke-width: 0;\n",
       "  stroke: currentColor;\n",
       "  fill: currentColor;\n",
       "}\n",
       "</style><pre class='xr-text-repr-fallback'>&lt;xarray.Dataset&gt;\n",
       "Dimensions:     (ny: 300, nx: 360, nc: 4)\n",
       "Dimensions without coordinates: ny, nx, nc\n",
       "Data variables: (12/16)\n",
       "    ulat        (ny, nx) float64 ...\n",
       "    ulon        (ny, nx) float64 ...\n",
       "    tlat        (ny, nx) float64 ...\n",
       "    tlon        (ny, nx) float64 ...\n",
       "    htn         (ny, nx) float64 ...\n",
       "    hte         (ny, nx) float64 ...\n",
       "    ...          ...\n",
       "    tarea       (ny, nx) float64 ...\n",
       "    uarea       (ny, nx) float64 ...\n",
       "    lont_bonds  (nc, ny, nx) float64 ...\n",
       "    latt_bonds  (nc, ny, nx) float64 ...\n",
       "    lonu_bonds  (nc, ny, nx) float64 ...\n",
       "    latu_bonds  (nc, ny, nx) float64 ...</pre><div class='xr-wrap' style='display:none'><div class='xr-header'><div class='xr-obj-type'>xarray.Dataset</div></div><ul class='xr-sections'><li class='xr-section-item'><input id='section-5dda321f-e3b6-434c-b48f-fbb94a2b734c' class='xr-section-summary-in' type='checkbox' disabled ><label for='section-5dda321f-e3b6-434c-b48f-fbb94a2b734c' class='xr-section-summary'  title='Expand/collapse section'>Dimensions:</label><div class='xr-section-inline-details'><ul class='xr-dim-list'><li><span>ny</span>: 300</li><li><span>nx</span>: 360</li><li><span>nc</span>: 4</li></ul></div><div class='xr-section-details'></div></li><li class='xr-section-item'><input id='section-0468425a-57c1-4c91-b0fe-38f4cd65d821' class='xr-section-summary-in' type='checkbox' disabled ><label for='section-0468425a-57c1-4c91-b0fe-38f4cd65d821' class='xr-section-summary'  title='Expand/collapse section'>Coordinates: <span>(0)</span></label><div class='xr-section-inline-details'></div><div class='xr-section-details'><ul class='xr-var-list'></ul></div></li><li class='xr-section-item'><input id='section-42245201-e26e-413e-a968-3eb940cbb4f1' class='xr-section-summary-in' type='checkbox'  ><label for='section-42245201-e26e-413e-a968-3eb940cbb4f1' class='xr-section-summary' >Data variables: <span>(16)</span></label><div class='xr-section-inline-details'></div><div class='xr-section-details'><ul class='xr-var-list'><li class='xr-var-item'><div class='xr-var-name'><span>ulat</span></div><div class='xr-var-dims'>(ny, nx)</div><div class='xr-var-dtype'>float64</div><div class='xr-var-preview xr-preview'>...</div><input id='attrs-610462bb-add2-4e9a-bf57-59dce08060a9' class='xr-var-attrs-in' type='checkbox' ><label for='attrs-610462bb-add2-4e9a-bf57-59dce08060a9' title='Show/Hide attributes'><svg class='icon xr-icon-file-text2'><use xlink:href='#icon-file-text2'></use></svg></label><input id='data-5ef49179-5009-402c-96d5-0f1786298179' class='xr-var-data-in' type='checkbox'><label for='data-5ef49179-5009-402c-96d5-0f1786298179' title='Show/Hide data repr'><svg class='icon xr-icon-database'><use xlink:href='#icon-database'></use></svg></label><div class='xr-var-attrs'><dl class='xr-attrs'><dt><span>units :</span></dt><dd>radians</dd><dt><span>title :</span></dt><dd>Latitude of U points</dd></dl></div><div class='xr-var-data'><pre>[108000 values with dtype=float64]</pre></div></li><li class='xr-var-item'><div class='xr-var-name'><span>ulon</span></div><div class='xr-var-dims'>(ny, nx)</div><div class='xr-var-dtype'>float64</div><div class='xr-var-preview xr-preview'>...</div><input id='attrs-81ede4e8-c6df-45e2-8885-20acf4e9d00f' class='xr-var-attrs-in' type='checkbox' ><label for='attrs-81ede4e8-c6df-45e2-8885-20acf4e9d00f' title='Show/Hide attributes'><svg class='icon xr-icon-file-text2'><use xlink:href='#icon-file-text2'></use></svg></label><input id='data-6d267ccc-152f-4c42-8452-c769901016e0' class='xr-var-data-in' type='checkbox'><label for='data-6d267ccc-152f-4c42-8452-c769901016e0' title='Show/Hide data repr'><svg class='icon xr-icon-database'><use xlink:href='#icon-database'></use></svg></label><div class='xr-var-attrs'><dl class='xr-attrs'><dt><span>units :</span></dt><dd>radians</dd><dt><span>title :</span></dt><dd>Longitude of U points</dd></dl></div><div class='xr-var-data'><pre>[108000 values with dtype=float64]</pre></div></li><li class='xr-var-item'><div class='xr-var-name'><span>tlat</span></div><div class='xr-var-dims'>(ny, nx)</div><div class='xr-var-dtype'>float64</div><div class='xr-var-preview xr-preview'>...</div><input id='attrs-4c28c4d9-0e47-48ac-ad1b-344af4ff8574' class='xr-var-attrs-in' type='checkbox' ><label for='attrs-4c28c4d9-0e47-48ac-ad1b-344af4ff8574' title='Show/Hide attributes'><svg class='icon xr-icon-file-text2'><use xlink:href='#icon-file-text2'></use></svg></label><input id='data-b3b8c88a-af86-44f0-abbd-89f7dcc80b87' class='xr-var-data-in' type='checkbox'><label for='data-b3b8c88a-af86-44f0-abbd-89f7dcc80b87' title='Show/Hide data repr'><svg class='icon xr-icon-database'><use xlink:href='#icon-database'></use></svg></label><div class='xr-var-attrs'><dl class='xr-attrs'><dt><span>units :</span></dt><dd>radians</dd><dt><span>title :</span></dt><dd>Latitude of T points</dd></dl></div><div class='xr-var-data'><pre>[108000 values with dtype=float64]</pre></div></li><li class='xr-var-item'><div class='xr-var-name'><span>tlon</span></div><div class='xr-var-dims'>(ny, nx)</div><div class='xr-var-dtype'>float64</div><div class='xr-var-preview xr-preview'>...</div><input id='attrs-a893ed32-d8dc-4a75-bb34-449b9461d4da' class='xr-var-attrs-in' type='checkbox' ><label for='attrs-a893ed32-d8dc-4a75-bb34-449b9461d4da' title='Show/Hide attributes'><svg class='icon xr-icon-file-text2'><use xlink:href='#icon-file-text2'></use></svg></label><input id='data-30eee678-2406-4277-a324-ff0160c59206' class='xr-var-data-in' type='checkbox'><label for='data-30eee678-2406-4277-a324-ff0160c59206' title='Show/Hide data repr'><svg class='icon xr-icon-database'><use xlink:href='#icon-database'></use></svg></label><div class='xr-var-attrs'><dl class='xr-attrs'><dt><span>units :</span></dt><dd>radians</dd><dt><span>title :</span></dt><dd>Longitude of T points</dd></dl></div><div class='xr-var-data'><pre>[108000 values with dtype=float64]</pre></div></li><li class='xr-var-item'><div class='xr-var-name'><span>htn</span></div><div class='xr-var-dims'>(ny, nx)</div><div class='xr-var-dtype'>float64</div><div class='xr-var-preview xr-preview'>...</div><input id='attrs-c9f52c59-142e-4e8b-ab5e-57cb268ed472' class='xr-var-attrs-in' type='checkbox' ><label for='attrs-c9f52c59-142e-4e8b-ab5e-57cb268ed472' title='Show/Hide attributes'><svg class='icon xr-icon-file-text2'><use xlink:href='#icon-file-text2'></use></svg></label><input id='data-66a113d9-4bc3-4195-93e7-7f1be632790b' class='xr-var-data-in' type='checkbox'><label for='data-66a113d9-4bc3-4195-93e7-7f1be632790b' title='Show/Hide data repr'><svg class='icon xr-icon-database'><use xlink:href='#icon-database'></use></svg></label><div class='xr-var-attrs'><dl class='xr-attrs'><dt><span>units :</span></dt><dd>cm</dd><dt><span>title :</span></dt><dd>Width of T cells on N side</dd></dl></div><div class='xr-var-data'><pre>[108000 values with dtype=float64]</pre></div></li><li class='xr-var-item'><div class='xr-var-name'><span>hte</span></div><div class='xr-var-dims'>(ny, nx)</div><div class='xr-var-dtype'>float64</div><div class='xr-var-preview xr-preview'>...</div><input id='attrs-345b0a18-911d-4f04-819e-3b432313fbea' class='xr-var-attrs-in' type='checkbox' ><label for='attrs-345b0a18-911d-4f04-819e-3b432313fbea' title='Show/Hide attributes'><svg class='icon xr-icon-file-text2'><use xlink:href='#icon-file-text2'></use></svg></label><input id='data-ef6598db-62ce-4b62-9c4e-cfc2796ad143' class='xr-var-data-in' type='checkbox'><label for='data-ef6598db-62ce-4b62-9c4e-cfc2796ad143' title='Show/Hide data repr'><svg class='icon xr-icon-database'><use xlink:href='#icon-database'></use></svg></label><div class='xr-var-attrs'><dl class='xr-attrs'><dt><span>units :</span></dt><dd>cm</dd><dt><span>title :</span></dt><dd>Width of T cells on E side</dd></dl></div><div class='xr-var-data'><pre>[108000 values with dtype=float64]</pre></div></li><li class='xr-var-item'><div class='xr-var-name'><span>hun</span></div><div class='xr-var-dims'>(ny, nx)</div><div class='xr-var-dtype'>float64</div><div class='xr-var-preview xr-preview'>...</div><input id='attrs-87fdebf7-a755-4684-b1e3-9822965ac7d8' class='xr-var-attrs-in' type='checkbox' ><label for='attrs-87fdebf7-a755-4684-b1e3-9822965ac7d8' title='Show/Hide attributes'><svg class='icon xr-icon-file-text2'><use xlink:href='#icon-file-text2'></use></svg></label><input id='data-6d5ce671-d656-4755-8226-4f7272bf4133' class='xr-var-data-in' type='checkbox'><label for='data-6d5ce671-d656-4755-8226-4f7272bf4133' title='Show/Hide data repr'><svg class='icon xr-icon-database'><use xlink:href='#icon-database'></use></svg></label><div class='xr-var-attrs'><dl class='xr-attrs'><dt><span>units :</span></dt><dd>cm</dd><dt><span>title :</span></dt><dd>Width of U cells on N side</dd></dl></div><div class='xr-var-data'><pre>[108000 values with dtype=float64]</pre></div></li><li class='xr-var-item'><div class='xr-var-name'><span>hue</span></div><div class='xr-var-dims'>(ny, nx)</div><div class='xr-var-dtype'>float64</div><div class='xr-var-preview xr-preview'>...</div><input id='attrs-ec3f7ff0-bb62-4d71-85e0-50aa193c78da' class='xr-var-attrs-in' type='checkbox' ><label for='attrs-ec3f7ff0-bb62-4d71-85e0-50aa193c78da' title='Show/Hide attributes'><svg class='icon xr-icon-file-text2'><use xlink:href='#icon-file-text2'></use></svg></label><input id='data-39efa199-d1d0-4e56-b80b-95f52e59c6da' class='xr-var-data-in' type='checkbox'><label for='data-39efa199-d1d0-4e56-b80b-95f52e59c6da' title='Show/Hide data repr'><svg class='icon xr-icon-database'><use xlink:href='#icon-database'></use></svg></label><div class='xr-var-attrs'><dl class='xr-attrs'><dt><span>units :</span></dt><dd>cm</dd><dt><span>title :</span></dt><dd>Width of U cells on E side</dd></dl></div><div class='xr-var-data'><pre>[108000 values with dtype=float64]</pre></div></li><li class='xr-var-item'><div class='xr-var-name'><span>angle</span></div><div class='xr-var-dims'>(ny, nx)</div><div class='xr-var-dtype'>float64</div><div class='xr-var-preview xr-preview'>...</div><input id='attrs-586cfd00-c67b-402b-88e7-faacf7ff40eb' class='xr-var-attrs-in' type='checkbox' ><label for='attrs-586cfd00-c67b-402b-88e7-faacf7ff40eb' title='Show/Hide attributes'><svg class='icon xr-icon-file-text2'><use xlink:href='#icon-file-text2'></use></svg></label><input id='data-a068b2df-5ba1-4104-95e3-ac63768c945f' class='xr-var-data-in' type='checkbox'><label for='data-a068b2df-5ba1-4104-95e3-ac63768c945f' title='Show/Hide data repr'><svg class='icon xr-icon-database'><use xlink:href='#icon-database'></use></svg></label><div class='xr-var-attrs'><dl class='xr-attrs'><dt><span>units :</span></dt><dd>radians</dd><dt><span>title :</span></dt><dd>Rotation Angle of U cells</dd></dl></div><div class='xr-var-data'><pre>[108000 values with dtype=float64]</pre></div></li><li class='xr-var-item'><div class='xr-var-name'><span>angleT</span></div><div class='xr-var-dims'>(ny, nx)</div><div class='xr-var-dtype'>float64</div><div class='xr-var-preview xr-preview'>...</div><input id='attrs-e25e622b-b3f9-4fe8-a198-02de9e88c124' class='xr-var-attrs-in' type='checkbox' ><label for='attrs-e25e622b-b3f9-4fe8-a198-02de9e88c124' title='Show/Hide attributes'><svg class='icon xr-icon-file-text2'><use xlink:href='#icon-file-text2'></use></svg></label><input id='data-4ed6df7e-3542-483f-9784-8cee2f760bc6' class='xr-var-data-in' type='checkbox'><label for='data-4ed6df7e-3542-483f-9784-8cee2f760bc6' title='Show/Hide data repr'><svg class='icon xr-icon-database'><use xlink:href='#icon-database'></use></svg></label><div class='xr-var-attrs'><dl class='xr-attrs'><dt><span>units :</span></dt><dd>radians</dd><dt><span>title :</span></dt><dd>Rotation Angle of T cells</dd></dl></div><div class='xr-var-data'><pre>[108000 values with dtype=float64]</pre></div></li><li class='xr-var-item'><div class='xr-var-name'><span>tarea</span></div><div class='xr-var-dims'>(ny, nx)</div><div class='xr-var-dtype'>float64</div><div class='xr-var-preview xr-preview'>...</div><input id='attrs-ccc8dbbb-2239-4905-85cf-f6631648d4e5' class='xr-var-attrs-in' type='checkbox' ><label for='attrs-ccc8dbbb-2239-4905-85cf-f6631648d4e5' title='Show/Hide attributes'><svg class='icon xr-icon-file-text2'><use xlink:href='#icon-file-text2'></use></svg></label><input id='data-4a407550-b50a-4d09-9a3b-61427a0ffb5c' class='xr-var-data-in' type='checkbox'><label for='data-4a407550-b50a-4d09-9a3b-61427a0ffb5c' title='Show/Hide data repr'><svg class='icon xr-icon-database'><use xlink:href='#icon-database'></use></svg></label><div class='xr-var-attrs'><dl class='xr-attrs'><dt><span>units :</span></dt><dd>m^2</dd><dt><span>title :</span></dt><dd>area in m^2 for T cells</dd></dl></div><div class='xr-var-data'><pre>[108000 values with dtype=float64]</pre></div></li><li class='xr-var-item'><div class='xr-var-name'><span>uarea</span></div><div class='xr-var-dims'>(ny, nx)</div><div class='xr-var-dtype'>float64</div><div class='xr-var-preview xr-preview'>...</div><input id='attrs-eb84cb8b-df85-4d6e-8bd9-73154faebfaf' class='xr-var-attrs-in' type='checkbox' ><label for='attrs-eb84cb8b-df85-4d6e-8bd9-73154faebfaf' title='Show/Hide attributes'><svg class='icon xr-icon-file-text2'><use xlink:href='#icon-file-text2'></use></svg></label><input id='data-8d0c6950-3471-4e15-8265-895d90f537f5' class='xr-var-data-in' type='checkbox'><label for='data-8d0c6950-3471-4e15-8265-895d90f537f5' title='Show/Hide data repr'><svg class='icon xr-icon-database'><use xlink:href='#icon-database'></use></svg></label><div class='xr-var-attrs'><dl class='xr-attrs'><dt><span>units :</span></dt><dd>m^2</dd><dt><span>title :</span></dt><dd>area in m^2 for U cells</dd></dl></div><div class='xr-var-data'><pre>[108000 values with dtype=float64]</pre></div></li><li class='xr-var-item'><div class='xr-var-name'><span>lont_bonds</span></div><div class='xr-var-dims'>(nc, ny, nx)</div><div class='xr-var-dtype'>float64</div><div class='xr-var-preview xr-preview'>...</div><input id='attrs-09c871ae-ce5a-4063-8e9a-0b556defba84' class='xr-var-attrs-in' type='checkbox' ><label for='attrs-09c871ae-ce5a-4063-8e9a-0b556defba84' title='Show/Hide attributes'><svg class='icon xr-icon-file-text2'><use xlink:href='#icon-file-text2'></use></svg></label><input id='data-57998643-8400-4f07-bb66-9a6c0f9f1e68' class='xr-var-data-in' type='checkbox'><label for='data-57998643-8400-4f07-bb66-9a6c0f9f1e68' title='Show/Hide data repr'><svg class='icon xr-icon-database'><use xlink:href='#icon-database'></use></svg></label><div class='xr-var-attrs'><dl class='xr-attrs'><dt><span>units :</span></dt><dd>radians</dd><dt><span>title :</span></dt><dd>long. of T cell vertices</dd></dl></div><div class='xr-var-data'><pre>[432000 values with dtype=float64]</pre></div></li><li class='xr-var-item'><div class='xr-var-name'><span>latt_bonds</span></div><div class='xr-var-dims'>(nc, ny, nx)</div><div class='xr-var-dtype'>float64</div><div class='xr-var-preview xr-preview'>...</div><input id='attrs-4108525f-86ec-4132-9826-984ce8df04af' class='xr-var-attrs-in' type='checkbox' ><label for='attrs-4108525f-86ec-4132-9826-984ce8df04af' title='Show/Hide attributes'><svg class='icon xr-icon-file-text2'><use xlink:href='#icon-file-text2'></use></svg></label><input id='data-ce264511-1c8c-415a-9368-b495b494515f' class='xr-var-data-in' type='checkbox'><label for='data-ce264511-1c8c-415a-9368-b495b494515f' title='Show/Hide data repr'><svg class='icon xr-icon-database'><use xlink:href='#icon-database'></use></svg></label><div class='xr-var-attrs'><dl class='xr-attrs'><dt><span>units :</span></dt><dd>radians</dd><dt><span>title :</span></dt><dd>lat. of T cell vertices</dd></dl></div><div class='xr-var-data'><pre>[432000 values with dtype=float64]</pre></div></li><li class='xr-var-item'><div class='xr-var-name'><span>lonu_bonds</span></div><div class='xr-var-dims'>(nc, ny, nx)</div><div class='xr-var-dtype'>float64</div><div class='xr-var-preview xr-preview'>...</div><input id='attrs-f7b21ad0-965d-457f-a21b-bc60c560d106' class='xr-var-attrs-in' type='checkbox' ><label for='attrs-f7b21ad0-965d-457f-a21b-bc60c560d106' title='Show/Hide attributes'><svg class='icon xr-icon-file-text2'><use xlink:href='#icon-file-text2'></use></svg></label><input id='data-92f7772f-4605-497d-a464-971e6ab59454' class='xr-var-data-in' type='checkbox'><label for='data-92f7772f-4605-497d-a464-971e6ab59454' title='Show/Hide data repr'><svg class='icon xr-icon-database'><use xlink:href='#icon-database'></use></svg></label><div class='xr-var-attrs'><dl class='xr-attrs'><dt><span>units :</span></dt><dd>radians</dd><dt><span>title :</span></dt><dd>long. of U cell vertices</dd></dl></div><div class='xr-var-data'><pre>[432000 values with dtype=float64]</pre></div></li><li class='xr-var-item'><div class='xr-var-name'><span>latu_bonds</span></div><div class='xr-var-dims'>(nc, ny, nx)</div><div class='xr-var-dtype'>float64</div><div class='xr-var-preview xr-preview'>...</div><input id='attrs-d26e69db-e1c1-40a6-8b61-6682b3eeb0a3' class='xr-var-attrs-in' type='checkbox' ><label for='attrs-d26e69db-e1c1-40a6-8b61-6682b3eeb0a3' title='Show/Hide attributes'><svg class='icon xr-icon-file-text2'><use xlink:href='#icon-file-text2'></use></svg></label><input id='data-f4592a39-9028-497e-b015-b0be8d875b6c' class='xr-var-data-in' type='checkbox'><label for='data-f4592a39-9028-497e-b015-b0be8d875b6c' title='Show/Hide data repr'><svg class='icon xr-icon-database'><use xlink:href='#icon-database'></use></svg></label><div class='xr-var-attrs'><dl class='xr-attrs'><dt><span>units :</span></dt><dd>radians</dd><dt><span>title :</span></dt><dd>lat. of U cell vertices</dd></dl></div><div class='xr-var-data'><pre>[432000 values with dtype=float64]</pre></div></li></ul></div></li><li class='xr-section-item'><input id='section-abe2591a-a163-4022-b27a-1c02d94a94d8' class='xr-section-summary-in' type='checkbox' disabled ><label for='section-abe2591a-a163-4022-b27a-1c02d94a94d8' class='xr-section-summary'  title='Expand/collapse section'>Indexes: <span>(0)</span></label><div class='xr-section-inline-details'></div><div class='xr-section-details'><ul class='xr-var-list'></ul></div></li><li class='xr-section-item'><input id='section-44247dc6-d829-45c8-b7aa-da0944481b98' class='xr-section-summary-in' type='checkbox' disabled ><label for='section-44247dc6-d829-45c8-b7aa-da0944481b98' class='xr-section-summary'  title='Expand/collapse section'>Attributes: <span>(0)</span></label><div class='xr-section-inline-details'></div><div class='xr-section-details'><dl class='xr-attrs'></dl></div></li></ul></div></div>"
      ],
      "text/plain": [
       "<xarray.Dataset>\n",
       "Dimensions:     (ny: 300, nx: 360, nc: 4)\n",
       "Dimensions without coordinates: ny, nx, nc\n",
       "Data variables: (12/16)\n",
       "    ulat        (ny, nx) float64 ...\n",
       "    ulon        (ny, nx) float64 ...\n",
       "    tlat        (ny, nx) float64 ...\n",
       "    tlon        (ny, nx) float64 ...\n",
       "    htn         (ny, nx) float64 ...\n",
       "    hte         (ny, nx) float64 ...\n",
       "    ...          ...\n",
       "    tarea       (ny, nx) float64 ...\n",
       "    uarea       (ny, nx) float64 ...\n",
       "    lont_bonds  (nc, ny, nx) float64 ...\n",
       "    latt_bonds  (nc, ny, nx) float64 ...\n",
       "    lonu_bonds  (nc, ny, nx) float64 ...\n",
       "    latu_bonds  (nc, ny, nx) float64 ..."
      ]
     },
     "execution_count": 5,
     "metadata": {},
     "output_type": "execute_result"
    }
   ],
   "source": [
    "cice1_grid"
   ]
  },
  {
   "cell_type": "code",
   "execution_count": 16,
   "id": "77d1621f-94c2-420b-a0bc-63026e6f1e0a",
   "metadata": {
    "collapsed": true,
    "jupyter": {
     "outputs_hidden": true
    }
   },
   "outputs": [
    {
     "data": {
      "text/plain": [
       "array([-278.99999784, -277.99999785, -276.99999785, -275.99999786,\n",
       "       -274.99999787, -273.99999788, -272.99999789, -271.99999789,\n",
       "       -270.9999979 , -269.99999791, -268.99999792, -267.99999792,\n",
       "       -266.99999793, -265.99999794, -264.99999795, -263.99999795,\n",
       "       -262.99999796, -261.99999797, -260.99999798, -259.99999799,\n",
       "       -258.99999799, -257.999998  , -256.99999801, -255.99999802,\n",
       "       -254.99999802, -253.99999803, -252.99999804, -251.99999805,\n",
       "       -250.99999806, -249.99999806, -248.99999807, -247.99999808,\n",
       "       -246.99999809, -245.99999809, -244.9999981 , -243.99999811,\n",
       "       -242.99999812, -241.99999813, -240.99999813, -239.99999814,\n",
       "       -238.99999815, -237.99999816, -236.99999816, -235.99999817,\n",
       "       -234.99999818, -233.99999819, -232.9999982 , -231.9999982 ,\n",
       "       -230.99999821, -229.99999822, -228.99999823, -227.99999823,\n",
       "       -226.99999824, -225.99999825, -224.99999826, -223.99999826,\n",
       "       -222.99999827, -221.99999828, -220.99999829, -219.9999983 ,\n",
       "       -218.9999983 , -217.99999831, -216.99999832, -215.99999833,\n",
       "       -214.99999833, -213.99999834, -212.99999835, -211.99999836,\n",
       "       -210.99999837, -209.99999837, -208.99999838, -207.99999839,\n",
       "       -206.9999984 , -205.9999984 , -204.99999841, -203.99999842,\n",
       "       -202.99999843, -201.99999844, -200.99999844, -199.99999845,\n",
       "       -198.99999846, -197.99999847, -196.99999847, -195.99999848,\n",
       "       -194.99999849, -193.9999985 , -192.9999985 , -191.99999851,\n",
       "       -190.99999852, -189.99999853, -188.99999854, -187.99999854,\n",
       "       -186.99999855, -185.99999856, -184.99999857, -183.99999857,\n",
       "       -182.99999858, -181.99999859, -180.9999986 , -179.99999861,\n",
       "       -178.99999861, -177.99999862, -176.99999863, -175.99999864,\n",
       "       -174.99999864, -173.99999865, -172.99999866, -171.99999867,\n",
       "       -170.99999868, -169.99999868, -168.99999869, -167.9999987 ,\n",
       "       -166.99999871, -165.99999871, -164.99999872, -163.99999873,\n",
       "       -162.99999874, -161.99999875, -160.99999875, -159.99999876,\n",
       "       -158.99999877, -157.99999878, -156.99999878, -155.99999879,\n",
       "       -154.9999988 , -153.99999881, -152.99999881, -151.99999882,\n",
       "       -150.99999883, -149.99999884, -148.99999885, -147.99999885,\n",
       "       -146.99999886, -145.99999887, -144.99999888, -143.99999888,\n",
       "       -142.99999889, -141.9999989 , -140.99999891, -139.99999892,\n",
       "       -138.99999892, -137.99999893, -136.99999894, -135.99999895,\n",
       "       -134.99999895, -133.99999896, -132.99999897, -131.99999898,\n",
       "       -130.99999899, -129.99999899, -128.999999  , -127.99999901,\n",
       "       -126.99999902, -125.99999902, -124.99999903, -123.99999904,\n",
       "       -122.99999905, -121.99999905, -120.99999906, -119.99999907,\n",
       "       -118.99999908, -117.99999909, -116.99999909, -115.9999991 ,\n",
       "       -114.99999911, -113.99999912, -112.99999912, -111.99999913,\n",
       "       -110.99999914, -109.99999915, -108.99999916, -107.99999916,\n",
       "       -106.99999917, -105.99999918, -104.99999919, -103.99999919,\n",
       "       -102.9999992 , -101.99999921, -100.99999922,  -99.99999923,\n",
       "        -98.99999923,  -97.99999924,  -96.99999925,  -95.99999926,\n",
       "        -94.99999926,  -93.99999927,  -92.99999928,  -91.99999929,\n",
       "        -90.9999993 ,  -89.9999993 ,  -88.99999931,  -87.99999932,\n",
       "        -86.99999933,  -85.99999933,  -84.99999934,  -83.99999935,\n",
       "        -82.99999936,  -81.99999936,  -80.99999937,  -79.99999938,\n",
       "        -78.99999939,  -77.9999994 ,  -76.9999994 ,  -75.99999941,\n",
       "        -74.99999942,  -73.99999943,  -72.99999943,  -71.99999944,\n",
       "        -70.99999945,  -69.99999946,  -68.99999947,  -67.99999947,\n",
       "        -66.99999948,  -65.99999949,  -64.9999995 ,  -63.9999995 ,\n",
       "        -62.99999951,  -61.99999952,  -60.99999953,  -59.99999954,\n",
       "        -58.99999954,  -57.99999955,  -56.99999956,  -55.99999957,\n",
       "        -54.99999957,  -53.99999958,  -52.99999959,  -51.9999996 ,\n",
       "        -50.9999996 ,  -49.99999961,  -48.99999962,  -47.99999963,\n",
       "        -46.99999964,  -45.99999964,  -44.99999965,  -43.99999966,\n",
       "        -42.99999967,  -41.99999967,  -40.99999968,  -39.99999969,\n",
       "        -38.9999997 ,  -37.99999971,  -36.99999971,  -35.99999972,\n",
       "        -34.99999973,  -33.99999974,  -32.99999974,  -31.99999975,\n",
       "        -30.99999976,  -29.99999977,  -28.99999978,  -27.99999978,\n",
       "        -26.99999979,  -25.9999998 ,  -24.99999981,  -23.99999981,\n",
       "        -22.99999982,  -21.99999983,  -20.99999984,  -19.99999985,\n",
       "        -18.99999985,  -17.99999986,  -16.99999987,  -15.99999988,\n",
       "        -14.99999988,  -13.99999989,  -12.9999999 ,  -11.99999991,\n",
       "        -10.99999991,   -9.99999992,   -8.99999993,   -7.99999994,\n",
       "         -6.99999995,   -5.99999995,   -4.99999996,   -3.99999997,\n",
       "         -2.99999998,   -1.99999998,   -0.99999999,    0.        ,\n",
       "          0.99999999,    1.99999998,    2.99999998,    3.99999997,\n",
       "          4.99999996,    5.99999995,    6.99999995,    7.99999994,\n",
       "          8.99999993,    9.99999992,   10.99999991,   11.99999991,\n",
       "         12.9999999 ,   13.99999989,   14.99999988,   15.99999988,\n",
       "         16.99999987,   17.99999986,   18.99999985,   19.99999985,\n",
       "         20.99999984,   21.99999983,   22.99999982,   23.99999981,\n",
       "         24.99999981,   25.9999998 ,   26.99999979,   27.99999978,\n",
       "         28.99999978,   29.99999977,   30.99999976,   31.99999975,\n",
       "         32.99999974,   33.99999974,   34.99999973,   35.99999972,\n",
       "         36.99999971,   37.99999971,   38.9999997 ,   39.99999969,\n",
       "         40.99999968,   41.99999967,   42.99999967,   43.99999966,\n",
       "         44.99999965,   45.99999964,   46.99999964,   47.99999963,\n",
       "         48.99999962,   49.99999961,   50.9999996 ,   51.9999996 ,\n",
       "         52.99999959,   53.99999958,   54.99999957,   55.99999957,\n",
       "         56.99999956,   57.99999955,   58.99999954,   59.99999954,\n",
       "         60.99999953,   61.99999952,   62.99999951,   63.9999995 ,\n",
       "         64.9999995 ,   65.99999949,   66.99999948,   67.99999947,\n",
       "         68.99999947,   69.99999946,   70.99999945,   71.99999944,\n",
       "         72.99999943,   73.99999943,   74.99999942,   75.99999941,\n",
       "         76.9999994 ,   77.9999994 ,   78.99999939,   79.99999938])"
      ]
     },
     "execution_count": 16,
     "metadata": {},
     "output_type": "execute_result"
    }
   ],
   "source": [
    "om2cice1_grid = xr.open_dataset('/g/data/ik11/inputs/access-om2/input_20201102/cice_1deg/grid.nc')\n",
    "np.rad2deg(om2cice1_grid.ulon.isel(ny=0).values)"
   ]
  },
  {
   "cell_type": "code",
   "execution_count": 15,
   "id": "0ff09baf-14f9-4c0b-b64c-f30e272ed71f",
   "metadata": {
    "collapsed": true,
    "jupyter": {
     "outputs_hidden": true
    },
    "scrolled": true
   },
   "outputs": [
    {
     "data": {
      "text/plain": [
       "array([-279.49999783, -278.49999784, -277.49999785, -276.49999786,\n",
       "       -275.49999787, -274.49999787, -273.49999788, -272.49999789,\n",
       "       -271.4999979 , -270.4999979 , -269.49999791, -268.49999792,\n",
       "       -267.49999793, -266.49999794, -265.49999794, -264.49999795,\n",
       "       -263.49999796, -262.49999797, -261.49999797, -260.49999798,\n",
       "       -259.49999799, -258.499998  , -257.49999801, -256.49999801,\n",
       "       -255.49999802, -254.49999803, -253.49999804, -252.49999804,\n",
       "       -251.49999805, -250.49999806, -249.49999807, -248.49999808,\n",
       "       -247.49999808, -246.49999809, -245.4999981 , -244.49999811,\n",
       "       -243.49999811, -242.49999812, -241.49999813, -240.49999814,\n",
       "       -239.49999814, -238.49999815, -237.49999816, -236.49999817,\n",
       "       -235.49999818, -234.49999818, -233.49999819, -232.4999982 ,\n",
       "       -231.49999821, -230.49999821, -229.49999822, -228.49999823,\n",
       "       -227.49999824, -226.49999825, -225.49999825, -224.49999826,\n",
       "       -223.49999827, -222.49999828, -221.49999828, -220.49999829,\n",
       "       -219.4999983 , -218.49999831, -217.49999832, -216.49999832,\n",
       "       -215.49999833, -214.49999834, -213.49999835, -212.49999835,\n",
       "       -211.49999836, -210.49999837, -209.49999838, -208.49999838,\n",
       "       -207.49999839, -206.4999984 , -205.49999841, -204.49999842,\n",
       "       -203.49999842, -202.49999843, -201.49999844, -200.49999845,\n",
       "       -199.49999845, -198.49999846, -197.49999847, -196.49999848,\n",
       "       -195.49999849, -194.49999849, -193.4999985 , -192.49999851,\n",
       "       -191.49999852, -190.49999852, -189.49999853, -188.49999854,\n",
       "       -187.49999855, -186.49999856, -185.49999856, -184.49999857,\n",
       "       -183.49999858, -182.49999859, -181.49999859, -180.4999986 ,\n",
       "       -179.49999861, -178.49999862, -177.49999863, -176.49999863,\n",
       "       -175.49999864, -174.49999865, -173.49999866, -172.49999866,\n",
       "       -171.49999867, -170.49999868, -169.49999869, -168.49999869,\n",
       "       -167.4999987 , -166.49999871, -165.49999872, -164.49999873,\n",
       "       -163.49999873, -162.49999874, -161.49999875, -160.49999876,\n",
       "       -159.49999876, -158.49999877, -157.49999878, -156.49999879,\n",
       "       -155.4999988 , -154.4999988 , -153.49999881, -152.49999882,\n",
       "       -151.49999883, -150.49999883, -149.49999884, -148.49999885,\n",
       "       -147.49999886, -146.49999887, -145.49999887, -144.49999888,\n",
       "       -143.49999889, -142.4999989 , -141.4999989 , -140.49999891,\n",
       "       -139.49999892, -138.49999893, -137.49999893, -136.49999894,\n",
       "       -135.49999895, -134.49999896, -133.49999897, -132.49999897,\n",
       "       -131.49999898, -130.49999899, -129.499999  , -128.499999  ,\n",
       "       -127.49999901, -126.49999902, -125.49999903, -124.49999904,\n",
       "       -123.49999904, -122.49999905, -121.49999906, -120.49999907,\n",
       "       -119.49999907, -118.49999908, -117.49999909, -116.4999991 ,\n",
       "       -115.49999911, -114.49999911, -113.49999912, -112.49999913,\n",
       "       -111.49999914, -110.49999914, -109.49999915, -108.49999916,\n",
       "       -107.49999917, -106.49999918, -105.49999918, -104.49999919,\n",
       "       -103.4999992 , -102.49999921, -101.49999921, -100.49999922,\n",
       "        -99.49999923,  -98.49999924,  -97.49999924,  -96.49999925,\n",
       "        -95.49999926,  -94.49999927,  -93.49999928,  -92.49999928,\n",
       "        -91.49999929,  -90.4999993 ,  -89.49999931,  -88.49999931,\n",
       "        -87.49999932,  -86.49999933,  -85.49999934,  -84.49999935,\n",
       "        -83.49999935,  -82.49999936,  -81.49999937,  -80.49999938,\n",
       "        -79.49999938,  -78.49999939,  -77.4999994 ,  -76.49999941,\n",
       "        -75.49999942,  -74.49999942,  -73.49999943,  -72.49999944,\n",
       "        -71.49999945,  -70.49999945,  -69.49999946,  -68.49999947,\n",
       "        -67.49999948,  -66.49999948,  -65.49999949,  -64.4999995 ,\n",
       "        -63.49999951,  -62.49999952,  -61.49999952,  -60.49999953,\n",
       "        -59.49999954,  -58.49999955,  -57.49999955,  -56.49999956,\n",
       "        -55.49999957,  -54.49999958,  -53.49999959,  -52.49999959,\n",
       "        -51.4999996 ,  -50.49999961,  -49.49999962,  -48.49999962,\n",
       "        -47.49999963,  -46.49999964,  -45.49999965,  -44.49999966,\n",
       "        -43.49999966,  -42.49999967,  -41.49999968,  -40.49999969,\n",
       "        -39.49999969,  -38.4999997 ,  -37.49999971,  -36.49999972,\n",
       "        -35.49999973,  -34.49999973,  -33.49999974,  -32.49999975,\n",
       "        -31.49999976,  -30.49999976,  -29.49999977,  -28.49999978,\n",
       "        -27.49999979,  -26.49999979,  -25.4999998 ,  -24.49999981,\n",
       "        -23.49999982,  -22.49999983,  -21.49999983,  -20.49999984,\n",
       "        -19.49999985,  -18.49999986,  -17.49999986,  -16.49999987,\n",
       "        -15.49999988,  -14.49999989,  -13.4999999 ,  -12.4999999 ,\n",
       "        -11.49999991,  -10.49999992,   -9.49999993,   -8.49999993,\n",
       "         -7.49999994,   -6.49999995,   -5.49999996,   -4.49999997,\n",
       "         -3.49999997,   -2.49999998,   -1.49999999,   -0.5       ,\n",
       "          0.5       ,    1.49999999,    2.49999998,    3.49999997,\n",
       "          4.49999997,    5.49999996,    6.49999995,    7.49999994,\n",
       "          8.49999993,    9.49999993,   10.49999992,   11.49999991,\n",
       "         12.4999999 ,   13.4999999 ,   14.49999989,   15.49999988,\n",
       "         16.49999987,   17.49999986,   18.49999986,   19.49999985,\n",
       "         20.49999984,   21.49999983,   22.49999983,   23.49999982,\n",
       "         24.49999981,   25.4999998 ,   26.49999979,   27.49999979,\n",
       "         28.49999978,   29.49999977,   30.49999976,   31.49999976,\n",
       "         32.49999975,   33.49999974,   34.49999973,   35.49999973,\n",
       "         36.49999972,   37.49999971,   38.4999997 ,   39.49999969,\n",
       "         40.49999969,   41.49999968,   42.49999967,   43.49999966,\n",
       "         44.49999966,   45.49999965,   46.49999964,   47.49999963,\n",
       "         48.49999962,   49.49999962,   50.49999961,   51.4999996 ,\n",
       "         52.49999959,   53.49999959,   54.49999958,   55.49999957,\n",
       "         56.49999956,   57.49999955,   58.49999955,   59.49999954,\n",
       "         60.49999953,   61.49999952,   62.49999952,   63.49999951,\n",
       "         64.4999995 ,   65.49999949,   66.49999948,   67.49999948,\n",
       "         68.49999947,   69.49999946,   70.49999945,   71.49999945,\n",
       "         72.49999944,   73.49999943,   74.49999942,   75.49999942,\n",
       "         76.49999941,   77.4999994 ,   78.49999939,   79.49999938])"
      ]
     },
     "execution_count": 15,
     "metadata": {},
     "output_type": "execute_result"
    }
   ],
   "source": [
    "np.rad2deg(om2cice1_grid.tlon.isel(ny=0).values)"
   ]
  },
  {
   "cell_type": "code",
   "execution_count": 29,
   "id": "a89edf8d-4001-465b-8449-6b57d4f33522",
   "metadata": {
    "collapsed": true,
    "jupyter": {
     "outputs_hidden": true
    },
    "scrolled": true
   },
   "outputs": [
    {
     "data": {
      "text/plain": [
       "array([-7.77531678e+01, -7.75057095e+01, -7.72569987e+01, -7.70064120e+01,\n",
       "       -7.67533288e+01, -7.64971328e+01, -7.62372129e+01, -7.59729642e+01,\n",
       "       -7.57037888e+01, -7.54290973e+01, -7.51483094e+01, -7.48608548e+01,\n",
       "       -7.45661743e+01, -7.42637211e+01, -7.39529608e+01, -7.36333731e+01,\n",
       "       -7.33044525e+01, -7.29657088e+01, -7.26166684e+01, -7.22568745e+01,\n",
       "       -7.18858885e+01, -7.15032903e+01, -7.11086792e+01, -7.07016744e+01,\n",
       "       -7.02819158e+01, -6.98490644e+01, -6.94028032e+01, -6.89428373e+01,\n",
       "       -6.84688948e+01, -6.79807270e+01, -6.74781088e+01, -6.69608393e+01,\n",
       "       -6.64287417e+01, -6.58816643e+01, -6.53194800e+01, -6.47420870e+01,\n",
       "       -6.41494087e+01, -6.35413940e+01, -6.29180173e+01, -6.22792788e+01,\n",
       "       -6.16252039e+01, -6.09558437e+01, -6.02712748e+01, -5.95715989e+01,\n",
       "       -5.88569432e+01, -5.81274595e+01, -5.73833245e+01, -5.66247391e+01,\n",
       "       -5.58519283e+01, -5.50651409e+01, -5.42646489e+01, -5.34507471e+01,\n",
       "       -5.26237525e+01, -5.17840041e+01, -5.09318619e+01, -5.00677069e+01,\n",
       "       -4.91919396e+01, -4.83049802e+01, -4.74072675e+01, -4.64992579e+01,\n",
       "       -4.55814253e+01, -4.46542597e+01, -4.37182668e+01, -4.27739668e+01,\n",
       "       -4.18218940e+01, -4.08625954e+01, -3.98966301e+01, -3.89245683e+01,\n",
       "       -3.79469904e+01, -3.69644860e+01, -3.59776526e+01, -3.49870954e+01,\n",
       "       -3.39934253e+01, -3.29972588e+01, -3.19992163e+01, -3.09999214e+01,\n",
       "       -2.99999998e+01, -2.90004566e+01, -2.80045605e+01, -2.70159186e+01,\n",
       "       -2.60380584e+01, -2.50743896e+01, -2.41281661e+01, -2.32024508e+01,\n",
       "       -2.23000818e+01, -2.14236417e+01, -2.05754287e+01, -1.97574319e+01,\n",
       "       -1.89713092e+01, -1.82183696e+01, -1.74995581e+01, -1.68154461e+01,\n",
       "       -1.61662248e+01, -1.55517029e+01, -1.49713093e+01, -1.44240986e+01,\n",
       "       -1.39087621e+01, -1.34236418e+01, -1.29667486e+01, -1.25357842e+01,\n",
       "       -1.21281662e+01, -1.17410564e+01, -1.13713919e+01, -1.10159187e+01,\n",
       "       -1.06712273e+01, -1.03337901e+01, -9.99999992e+00, -9.66666659e+00,\n",
       "       -9.33333326e+00, -8.99999993e+00, -8.66666660e+00, -8.33333327e+00,\n",
       "       -7.99999994e+00, -7.66666661e+00, -7.33333328e+00, -6.99999995e+00,\n",
       "       -6.66666662e+00, -6.33333328e+00, -5.99999995e+00, -5.66666662e+00,\n",
       "       -5.33333329e+00, -4.99999996e+00, -4.66666663e+00, -4.33333330e+00,\n",
       "       -3.99999997e+00, -3.66666664e+00, -3.33333331e+00, -2.99999998e+00,\n",
       "       -2.66666665e+00, -2.33333332e+00, -1.99999999e+00, -1.66666665e+00,\n",
       "       -1.33333332e+00, -9.99999993e-01, -6.66666662e-01, -3.33333332e-01,\n",
       "       -9.99999520e-10,  3.33333330e-01,  6.66666660e-01,  9.99999991e-01,\n",
       "        1.33333332e+00,  1.66666665e+00,  1.99999998e+00,  2.33333331e+00,\n",
       "        2.66666664e+00,  2.99999998e+00,  3.33333331e+00,  3.66666664e+00,\n",
       "        3.99999997e+00,  4.33333330e+00,  4.66666663e+00,  4.99999996e+00,\n",
       "        5.33333329e+00,  5.66666662e+00,  5.99999995e+00,  6.33333328e+00,\n",
       "        6.66666661e+00,  6.99999994e+00,  7.33333327e+00,  7.66666661e+00,\n",
       "        7.99999994e+00,  8.33333327e+00,  8.66666660e+00,  8.99999993e+00,\n",
       "        9.33333326e+00,  9.66666659e+00,  9.99999992e+00,  1.03337901e+01,\n",
       "        1.06712273e+01,  1.10159187e+01,  1.13713919e+01,  1.17410564e+01,\n",
       "        1.21281662e+01,  1.25357842e+01,  1.29667486e+01,  1.34236418e+01,\n",
       "        1.39087621e+01,  1.44240986e+01,  1.49713093e+01,  1.55517029e+01,\n",
       "        1.61662248e+01,  1.68154461e+01,  1.74995581e+01,  1.82183696e+01,\n",
       "        1.89713092e+01,  1.97574319e+01,  2.05754287e+01,  2.14236417e+01,\n",
       "        2.23000818e+01,  2.32024508e+01,  2.41281661e+01,  2.50743896e+01,\n",
       "        2.60380584e+01,  2.70159186e+01,  2.80045605e+01,  2.90004566e+01,\n",
       "        2.99999998e+01,  3.09998548e+01,  3.19985506e+01,  3.29949332e+01,\n",
       "        3.39878582e+01,  3.49761962e+01,  3.59588374e+01,  3.69346963e+01,\n",
       "        3.79027166e+01,  3.88618756e+01,  3.98111882e+01,  4.07497118e+01,\n",
       "        4.16765500e+01,  4.25908563e+01,  4.34918378e+01,  4.43787588e+01,\n",
       "        4.52509438e+01,  4.61077805e+01,  4.69487219e+01,  4.77732897e+01,\n",
       "        4.85810751e+01,  4.93717416e+01,  5.01450257e+01,  5.09007387e+01,\n",
       "        5.16387668e+01,  5.23590720e+01,  5.30616924e+01,  5.37467415e+01,\n",
       "        5.44144084e+01,  5.50649563e+01,  5.56987219e+01,  5.63161137e+01,\n",
       "        5.69176104e+01,  5.75037587e+01,  5.80751710e+01,  5.86325228e+01,\n",
       "        5.91765499e+01,  5.97080450e+01,  6.02278547e+01,  6.07368754e+01,\n",
       "        6.12360498e+01,  6.17263628e+01,  6.22088372e+01,  6.26845293e+01,\n",
       "        6.31545246e+01,  6.36199329e+01,  6.40818837e+01,  6.45415212e+01,\n",
       "        6.49999995e+01,  6.50080658e+01,  6.50162659e+01,  6.50245984e+01,\n",
       "        6.50330616e+01,  6.50416533e+01,  6.50503711e+01,  6.50592120e+01,\n",
       "        6.50681724e+01,  6.50772484e+01,  6.50864355e+01,  6.50957286e+01,\n",
       "        6.51051221e+01,  6.51146097e+01,  6.51241844e+01,  6.51338387e+01,\n",
       "        6.51435643e+01,  6.51533523e+01,  6.51631928e+01,  6.51730755e+01,\n",
       "        6.51829891e+01,  6.51929216e+01,  6.52028602e+01,  6.52127914e+01,\n",
       "        6.52227008e+01,  6.52325733e+01,  6.52423930e+01,  6.52521434e+01,\n",
       "        6.52618071e+01,  6.52713662e+01,  6.52808022e+01,  6.52900958e+01,\n",
       "        6.52992274e+01,  6.53081770e+01,  6.53169240e+01,  6.53254478e+01,\n",
       "        6.53337274e+01,  6.53417418e+01,  6.53494700e+01,  6.53568912e+01,\n",
       "        6.53639848e+01,  6.53707306e+01,  6.53771089e+01,  6.53831006e+01,\n",
       "        6.53886873e+01,  6.53938518e+01,  6.53985776e+01,  6.54028494e+01,\n",
       "        6.54066532e+01,  6.54099764e+01,  6.54128078e+01,  6.54151378e+01,\n",
       "        6.54169585e+01,  6.54182635e+01,  6.54190483e+01,  6.54193102e+01])"
      ]
     },
     "execution_count": 29,
     "metadata": {},
     "output_type": "execute_result"
    }
   ],
   "source": [
    "np.rad2deg(om2cice1_grid.ulat.isel(nx=0).values)"
   ]
  },
  {
   "cell_type": "code",
   "execution_count": 30,
   "id": "310a6efa-6147-45c8-9f4f-95a346aa27f4",
   "metadata": {
    "collapsed": true,
    "jupyter": {
     "outputs_hidden": true
    },
    "scrolled": true
   },
   "outputs": [
    {
     "data": {
      "text/plain": [
       "array([-77.87662277, -77.6297128 , -77.38170611, -77.13229133,\n",
       "       -76.88053265, -76.62612494, -76.3681407 , -76.10628515,\n",
       "       -75.83964318, -75.56793445, -75.29026024, -75.00635855,\n",
       "       -74.71535098, -74.41699772, -74.1104444 , -73.7954771 ,\n",
       "       -73.47126911, -73.13763589, -72.79378178, -72.43955496,\n",
       "       -72.07419404, -71.69758299, -71.3089977 , -70.90836076,\n",
       "       -70.49498806, -70.06884346, -69.62928529, -69.17632101,\n",
       "       -68.70935357, -68.22843605, -67.73301795, -67.22319968,\n",
       "       -66.69847885, -66.15900463, -65.60432401, -65.03463602,\n",
       "       -64.44953792, -63.84927938, -63.23350855, -62.60252615,\n",
       "       -61.95603144, -61.29437631, -60.61731106, -59.92523845,\n",
       "       -59.21795942, -58.49592702, -57.75899205, -57.00765692,\n",
       "       -56.2418212 , -55.4620354 , -54.66824645, -53.86105138,\n",
       "       -53.04044274, -52.2070622 , -51.3609459 , -50.50277796,\n",
       "       -49.63263578, -48.75124345, -47.85871704, -46.95581791,\n",
       "       -46.04269789, -45.12015265, -44.18836671, -43.24816679,\n",
       "       -42.29976682, -41.34402115, -40.3811696 , -39.41209057,\n",
       "       -38.43704607, -37.4569348 , -36.47203711, -35.48326812,\n",
       "       -34.49092259, -33.49592804, -32.49858957, -31.49984303,\n",
       "       -30.49999976, -29.49999977, -28.50091342, -27.50820756,\n",
       "       -26.52362955, -25.55248729, -24.59629189, -23.66004026,\n",
       "       -22.74486126, -21.85530242, -20.99198101, -20.15887641,\n",
       "       -19.35598736, -18.58663112, -17.85010801, -17.14900816,\n",
       "       -16.48188405, -15.85056547, -15.25284037, -14.68977818,\n",
       "       -14.15841901, -13.65910518, -13.18817837, -12.74531879,\n",
       "       -12.32624957, -11.93008277, -11.55202995, -11.19075379,\n",
       "       -10.84108357, -10.50137101, -10.16620914,  -9.83379071,\n",
       "        -9.49954248,  -9.16712404,  -8.83287582,  -8.50045738,\n",
       "        -8.16620916,  -7.83379072,  -7.49954249,  -7.16712406,\n",
       "        -6.83287583,  -6.5004574 ,  -6.16620917,  -5.83379074,\n",
       "        -5.49954251,  -5.16712408,  -4.83287585,  -4.50045741,\n",
       "        -4.16620919,  -3.83379075,  -3.49954253,  -3.16712409,\n",
       "        -2.83287586,  -2.50045743,  -2.1662092 ,  -1.83379077,\n",
       "        -1.49954254,  -1.16712411,  -0.83287588,  -0.50045745,\n",
       "        -0.16620922,   0.16620922,   0.50045744,   0.83287588,\n",
       "         1.1671241 ,   1.49954254,   1.83379077,   2.1662092 ,\n",
       "         2.50045743,   2.83287586,   3.16712409,   3.49954252,\n",
       "         3.83379075,   4.16620918,   4.50045741,   4.83287585,\n",
       "         5.16712407,   5.49954251,   5.83379073,   6.16620917,\n",
       "         6.5004574 ,   6.83287583,   7.16712406,   7.49954249,\n",
       "         7.83379072,   8.16620915,   8.50045738,   8.83287581,\n",
       "         9.16712404,   9.49954248,   9.8337907 ,  10.16620914,\n",
       "        10.50137101,  10.84108358,  11.19075379,  11.55202995,\n",
       "        11.93008276,  12.32624957,  12.74531878,  13.18817837,\n",
       "        13.65910518,  14.15841901,  14.68977817,  15.25284037,\n",
       "        15.85056547,  16.48188405,  17.14900815,  17.85010801,\n",
       "        18.58663112,  19.35598736,  20.15887641,  20.99198101,\n",
       "        21.85530242,  22.74486126,  23.66004026,  24.59629189,\n",
       "        25.55248729,  26.52362956,  27.50820756,  28.50091342,\n",
       "        29.49999977,  30.49999977,  31.49970974,  32.49739148,\n",
       "        33.49247486,  34.48324149,  35.46915086,  36.44852386,\n",
       "        37.42086875,  38.38456452,  39.33918658,  40.2831898 ,\n",
       "        41.2162339 ,  42.13686616,  43.04484638,  43.93882917,\n",
       "        44.81868845,  45.68319924,  46.53236167,  47.3650822 ,\n",
       "        48.1814971 ,  48.98065306,  49.76283007,  50.52722143,\n",
       "        51.27425601,  52.00327759,  52.71486649,  53.40851829,\n",
       "        54.08496477,  54.74385197,  55.38606056,  56.01138319,\n",
       "        56.62084424,  57.21437661,  57.79314081,  58.35720118,\n",
       "        58.90784444,  59.44525534,  59.97083472,  60.48487467,\n",
       "        60.9888761 ,  61.48322348,  61.96950207,  62.44817224,\n",
       "        62.92088635,  63.38816288,  63.85170298,  64.3120644 ,\n",
       "        64.77097791,  65.00200655,  65.00607658,  65.01020862,\n",
       "        65.01441245,  65.01867644,  65.02301031,  65.0274017 ,\n",
       "        65.03186019,  65.03637262,  65.04094838,  65.04557346,\n",
       "        65.050257  ,  65.0549841 ,  65.05976354,  65.06457955,\n",
       "        65.06944045,  65.07432954,  65.07925465,  65.08419815,\n",
       "        65.08916726,  65.09414346,  65.09913327,  65.10411732,\n",
       "        65.10910137,  65.11406527,  65.11901395,  65.12392658,\n",
       "        65.12880722,  65.1336345 ,  65.13841158,  65.14311671,\n",
       "        65.14775217,  65.15229603,  65.15674974,  65.16109143,\n",
       "        65.16532175,  65.16941921,  65.17338373,  65.17719453,\n",
       "        65.18085093,  65.18433317,  65.18764011,  65.1907534 ,\n",
       "        65.19367159,  65.19637809,  65.1988713 ,  65.20113676,\n",
       "        65.20317288,  65.20496765,  65.20651965,  65.20781958,\n",
       "        65.20886635,  65.20965362,  65.21018069,  65.21044434])"
      ]
     },
     "execution_count": 30,
     "metadata": {},
     "output_type": "execute_result"
    }
   ],
   "source": [
    "np.rad2deg(om2cice1_grid.tlat.isel(nx=0).values)"
   ]
  },
  {
   "cell_type": "code",
   "execution_count": 24,
   "id": "ab4e4138-4d2e-4a46-af90-9942f475252a",
   "metadata": {
    "collapsed": true,
    "jupyter": {
     "outputs_hidden": true,
     "source_hidden": true
    },
    "scrolled": true
   },
   "outputs": [
    {
     "data": {
      "text/plain": [
       "array([-280. , -279.5, -279. , -278.5, -278. , -277.5, -277. , -276.5,\n",
       "       -276. , -275.5, -275. , -274.5, -274. , -273.5, -273. , -272.5,\n",
       "       -272. , -271.5, -271. , -270.5, -270. , -269.5, -269. , -268.5,\n",
       "       -268. , -267.5, -267. , -266.5, -266. , -265.5, -265. , -264.5,\n",
       "       -264. , -263.5, -263. , -262.5, -262. , -261.5, -261. , -260.5,\n",
       "       -260. , -259.5, -259. , -258.5, -258. , -257.5, -257. , -256.5,\n",
       "       -256. , -255.5, -255. , -254.5, -254. , -253.5, -253. , -252.5,\n",
       "       -252. , -251.5, -251. , -250.5, -250. , -249.5, -249. , -248.5,\n",
       "       -248. , -247.5, -247. , -246.5, -246. , -245.5, -245. , -244.5,\n",
       "       -244. , -243.5, -243. , -242.5, -242. , -241.5, -241. , -240.5,\n",
       "       -240. , -239.5, -239. , -238.5, -238. , -237.5, -237. , -236.5,\n",
       "       -236. , -235.5, -235. , -234.5, -234. , -233.5, -233. , -232.5,\n",
       "       -232. , -231.5, -231. , -230.5, -230. , -229.5, -229. , -228.5,\n",
       "       -228. , -227.5, -227. , -226.5, -226. , -225.5, -225. , -224.5,\n",
       "       -224. , -223.5, -223. , -222.5, -222. , -221.5, -221. , -220.5,\n",
       "       -220. , -219.5, -219. , -218.5, -218. , -217.5, -217. , -216.5,\n",
       "       -216. , -215.5, -215. , -214.5, -214. , -213.5, -213. , -212.5,\n",
       "       -212. , -211.5, -211. , -210.5, -210. , -209.5, -209. , -208.5,\n",
       "       -208. , -207.5, -207. , -206.5, -206. , -205.5, -205. , -204.5,\n",
       "       -204. , -203.5, -203. , -202.5, -202. , -201.5, -201. , -200.5,\n",
       "       -200. , -199.5, -199. , -198.5, -198. , -197.5, -197. , -196.5,\n",
       "       -196. , -195.5, -195. , -194.5, -194. , -193.5, -193. , -192.5,\n",
       "       -192. , -191.5, -191. , -190.5, -190. , -189.5, -189. , -188.5,\n",
       "       -188. , -187.5, -187. , -186.5, -186. , -185.5, -185. , -184.5,\n",
       "       -184. , -183.5, -183. , -182.5, -182. , -181.5, -181. , -180.5,\n",
       "       -180. , -179.5, -179. , -178.5, -178. , -177.5, -177. , -176.5,\n",
       "       -176. , -175.5, -175. , -174.5, -174. , -173.5, -173. , -172.5,\n",
       "       -172. , -171.5, -171. , -170.5, -170. , -169.5, -169. , -168.5,\n",
       "       -168. , -167.5, -167. , -166.5, -166. , -165.5, -165. , -164.5,\n",
       "       -164. , -163.5, -163. , -162.5, -162. , -161.5, -161. , -160.5,\n",
       "       -160. , -159.5, -159. , -158.5, -158. , -157.5, -157. , -156.5,\n",
       "       -156. , -155.5, -155. , -154.5, -154. , -153.5, -153. , -152.5,\n",
       "       -152. , -151.5, -151. , -150.5, -150. , -149.5, -149. , -148.5,\n",
       "       -148. , -147.5, -147. , -146.5, -146. , -145.5, -145. , -144.5,\n",
       "       -144. , -143.5, -143. , -142.5, -142. , -141.5, -141. , -140.5,\n",
       "       -140. , -139.5, -139. , -138.5, -138. , -137.5, -137. , -136.5,\n",
       "       -136. , -135.5, -135. , -134.5, -134. , -133.5, -133. , -132.5,\n",
       "       -132. , -131.5, -131. , -130.5, -130. , -129.5, -129. , -128.5,\n",
       "       -128. , -127.5, -127. , -126.5, -126. , -125.5, -125. , -124.5,\n",
       "       -124. , -123.5, -123. , -122.5, -122. , -121.5, -121. , -120.5,\n",
       "       -120. , -119.5, -119. , -118.5, -118. , -117.5, -117. , -116.5,\n",
       "       -116. , -115.5, -115. , -114.5, -114. , -113.5, -113. , -112.5,\n",
       "       -112. , -111.5, -111. , -110.5, -110. , -109.5, -109. , -108.5,\n",
       "       -108. , -107.5, -107. , -106.5, -106. , -105.5, -105. , -104.5,\n",
       "       -104. , -103.5, -103. , -102.5, -102. , -101.5, -101. , -100.5,\n",
       "       -100. ,  -99.5,  -99. ,  -98.5,  -98. ,  -97.5,  -97. ,  -96.5,\n",
       "        -96. ,  -95.5,  -95. ,  -94.5,  -94. ,  -93.5,  -93. ,  -92.5,\n",
       "        -92. ,  -91.5,  -91. ,  -90.5,  -90. ,  -89.5,  -89. ,  -88.5,\n",
       "        -88. ,  -87.5,  -87. ,  -86.5,  -86. ,  -85.5,  -85. ,  -84.5,\n",
       "        -84. ,  -83.5,  -83. ,  -82.5,  -82. ,  -81.5,  -81. ,  -80.5,\n",
       "        -80. ,  -79.5,  -79. ,  -78.5,  -78. ,  -77.5,  -77. ,  -76.5,\n",
       "        -76. ,  -75.5,  -75. ,  -74.5,  -74. ,  -73.5,  -73. ,  -72.5,\n",
       "        -72. ,  -71.5,  -71. ,  -70.5,  -70. ,  -69.5,  -69. ,  -68.5,\n",
       "        -68. ,  -67.5,  -67. ,  -66.5,  -66. ,  -65.5,  -65. ,  -64.5,\n",
       "        -64. ,  -63.5,  -63. ,  -62.5,  -62. ,  -61.5,  -61. ,  -60.5,\n",
       "        -60. ,  -59.5,  -59. ,  -58.5,  -58. ,  -57.5,  -57. ,  -56.5,\n",
       "        -56. ,  -55.5,  -55. ,  -54.5,  -54. ,  -53.5,  -53. ,  -52.5,\n",
       "        -52. ,  -51.5,  -51. ,  -50.5,  -50. ,  -49.5,  -49. ,  -48.5,\n",
       "        -48. ,  -47.5,  -47. ,  -46.5,  -46. ,  -45.5,  -45. ,  -44.5,\n",
       "        -44. ,  -43.5,  -43. ,  -42.5,  -42. ,  -41.5,  -41. ,  -40.5,\n",
       "        -40. ,  -39.5,  -39. ,  -38.5,  -38. ,  -37.5,  -37. ,  -36.5,\n",
       "        -36. ,  -35.5,  -35. ,  -34.5,  -34. ,  -33.5,  -33. ,  -32.5,\n",
       "        -32. ,  -31.5,  -31. ,  -30.5,  -30. ,  -29.5,  -29. ,  -28.5,\n",
       "        -28. ,  -27.5,  -27. ,  -26.5,  -26. ,  -25.5,  -25. ,  -24.5,\n",
       "        -24. ,  -23.5,  -23. ,  -22.5,  -22. ,  -21.5,  -21. ,  -20.5,\n",
       "        -20. ,  -19.5,  -19. ,  -18.5,  -18. ,  -17.5,  -17. ,  -16.5,\n",
       "        -16. ,  -15.5,  -15. ,  -14.5,  -14. ,  -13.5,  -13. ,  -12.5,\n",
       "        -12. ,  -11.5,  -11. ,  -10.5,  -10. ,   -9.5,   -9. ,   -8.5,\n",
       "         -8. ,   -7.5,   -7. ,   -6.5,   -6. ,   -5.5,   -5. ,   -4.5,\n",
       "         -4. ,   -3.5,   -3. ,   -2.5,   -2. ,   -1.5,   -1. ,   -0.5,\n",
       "          0. ,    0.5,    1. ,    1.5,    2. ,    2.5,    3. ,    3.5,\n",
       "          4. ,    4.5,    5. ,    5.5,    6. ,    6.5,    7. ,    7.5,\n",
       "          8. ,    8.5,    9. ,    9.5,   10. ,   10.5,   11. ,   11.5,\n",
       "         12. ,   12.5,   13. ,   13.5,   14. ,   14.5,   15. ,   15.5,\n",
       "         16. ,   16.5,   17. ,   17.5,   18. ,   18.5,   19. ,   19.5,\n",
       "         20. ,   20.5,   21. ,   21.5,   22. ,   22.5,   23. ,   23.5,\n",
       "         24. ,   24.5,   25. ,   25.5,   26. ,   26.5,   27. ,   27.5,\n",
       "         28. ,   28.5,   29. ,   29.5,   30. ,   30.5,   31. ,   31.5,\n",
       "         32. ,   32.5,   33. ,   33.5,   34. ,   34.5,   35. ,   35.5,\n",
       "         36. ,   36.5,   37. ,   37.5,   38. ,   38.5,   39. ,   39.5,\n",
       "         40. ,   40.5,   41. ,   41.5,   42. ,   42.5,   43. ,   43.5,\n",
       "         44. ,   44.5,   45. ,   45.5,   46. ,   46.5,   47. ,   47.5,\n",
       "         48. ,   48.5,   49. ,   49.5,   50. ,   50.5,   51. ,   51.5,\n",
       "         52. ,   52.5,   53. ,   53.5,   54. ,   54.5,   55. ,   55.5,\n",
       "         56. ,   56.5,   57. ,   57.5,   58. ,   58.5,   59. ,   59.5,\n",
       "         60. ,   60.5,   61. ,   61.5,   62. ,   62.5,   63. ,   63.5,\n",
       "         64. ,   64.5,   65. ,   65.5,   66. ,   66.5,   67. ,   67.5,\n",
       "         68. ,   68.5,   69. ,   69.5,   70. ,   70.5,   71. ,   71.5,\n",
       "         72. ,   72.5,   73. ,   73.5,   74. ,   74.5,   75. ,   75.5,\n",
       "         76. ,   76.5,   77. ,   77.5,   78. ,   78.5,   79. ,   79.5,\n",
       "         80. ])"
      ]
     },
     "execution_count": 24,
     "metadata": {},
     "output_type": "execute_result"
    }
   ],
   "source": [
    "om2mom1_grid = xr.open_dataset('/g/data/ik11/inputs/access-om2/input_20201102/mom_1deg/ocean_hgrid.nc')\n",
    "om2mom1_grid.x.isel(nyp=0).values"
   ]
  },
  {
   "cell_type": "code",
   "execution_count": 31,
   "id": "4367b2f6-455b-4556-899a-c8d6b7dfd989",
   "metadata": {
    "collapsed": true,
    "jupyter": {
     "outputs_hidden": true,
     "source_hidden": true
    },
    "scrolled": true
   },
   "outputs": [
    {
     "data": {
      "text/plain": [
       "array([-7.80000000e+01, -7.78766234e+01, -7.77531684e+01, -7.76297134e+01,\n",
       "       -7.75057101e+01, -7.73817067e+01, -7.72569993e+01, -7.71322919e+01,\n",
       "       -7.70064126e+01, -7.68805333e+01, -7.67533294e+01, -7.66261255e+01,\n",
       "       -7.64971334e+01, -7.63681413e+01, -7.62372135e+01, -7.61062857e+01,\n",
       "       -7.59729648e+01, -7.58396438e+01, -7.57037894e+01, -7.55679350e+01,\n",
       "       -7.54290979e+01, -7.52902608e+01, -7.51483100e+01, -7.50063591e+01,\n",
       "       -7.48608553e+01, -7.47153516e+01, -7.45661749e+01, -7.44169983e+01,\n",
       "       -7.42637216e+01, -7.41104450e+01, -7.39529613e+01, -7.37954777e+01,\n",
       "       -7.36333737e+01, -7.34712697e+01, -7.33044531e+01, -7.31376365e+01,\n",
       "       -7.29657094e+01, -7.27937823e+01, -7.26166689e+01, -7.24395555e+01,\n",
       "       -7.22568751e+01, -7.20741946e+01, -7.18858891e+01, -7.16975835e+01,\n",
       "       -7.15032909e+01, -7.13089982e+01, -7.11086798e+01, -7.09083613e+01,\n",
       "       -7.07016750e+01, -7.04949886e+01, -7.02819163e+01, -7.00688440e+01,\n",
       "       -6.98490649e+01, -6.96292858e+01, -6.94028037e+01, -6.91763215e+01,\n",
       "       -6.89428378e+01, -6.87093541e+01, -6.84688953e+01, -6.82284366e+01,\n",
       "       -6.79807275e+01, -6.77330185e+01, -6.74781093e+01, -6.72232002e+01,\n",
       "       -6.69608398e+01, -6.66984794e+01, -6.64287423e+01, -6.61590051e+01,\n",
       "       -6.58816648e+01, -6.56043245e+01, -6.53194805e+01, -6.50346365e+01,\n",
       "       -6.47420875e+01, -6.44495384e+01, -6.41494091e+01, -6.38492799e+01,\n",
       "       -6.35413945e+01, -6.32335090e+01, -6.29180178e+01, -6.26025266e+01,\n",
       "       -6.22792793e+01, -6.19560319e+01, -6.16252044e+01, -6.12943768e+01,\n",
       "       -6.09558442e+01, -6.06173115e+01, -6.02712752e+01, -5.99252389e+01,\n",
       "       -5.95715994e+01, -5.92179599e+01, -5.88569437e+01, -5.84959275e+01,\n",
       "       -5.81274600e+01, -5.77589925e+01, -5.73833249e+01, -5.70076574e+01,\n",
       "       -5.66247395e+01, -5.62418216e+01, -5.58519287e+01, -5.54620358e+01,\n",
       "       -5.50651414e+01, -5.46682469e+01, -5.42646493e+01, -5.38610518e+01,\n",
       "       -5.34507475e+01, -5.30404432e+01, -5.26237529e+01, -5.22070626e+01,\n",
       "       -5.17840045e+01, -5.13609463e+01, -5.09318623e+01, -5.05027784e+01,\n",
       "       -5.00677073e+01, -4.96326362e+01, -4.91919400e+01, -4.87512438e+01,\n",
       "       -4.83049806e+01, -4.78587174e+01, -4.74072678e+01, -4.69558183e+01,\n",
       "       -4.64992583e+01, -4.60426983e+01, -4.55814256e+01, -4.51201530e+01,\n",
       "       -4.46542600e+01, -4.41883671e+01, -4.37182671e+01, -4.32481671e+01,\n",
       "       -4.27739671e+01, -4.22997671e+01, -4.18218943e+01, -4.13440215e+01,\n",
       "       -4.08625957e+01, -4.03811699e+01, -3.98966304e+01, -3.94120909e+01,\n",
       "       -3.89245686e+01, -3.84370464e+01, -3.79469907e+01, -3.74569351e+01,\n",
       "       -3.69644862e+01, -3.64720374e+01, -3.59776529e+01, -3.54832684e+01,\n",
       "       -3.49870956e+01, -3.44909229e+01, -3.39934256e+01, -3.34959283e+01,\n",
       "       -3.29972591e+01, -3.24985898e+01, -3.19992165e+01, -3.14998433e+01,\n",
       "       -3.09999216e+01, -3.05000000e+01, -3.00000000e+01, -2.95000000e+01,\n",
       "       -2.90004568e+01, -2.85009136e+01, -2.80045607e+01, -2.75082078e+01,\n",
       "       -2.70159188e+01, -2.65236298e+01, -2.60380586e+01, -2.55524875e+01,\n",
       "       -2.50743898e+01, -2.45962921e+01, -2.41281663e+01, -2.36600404e+01,\n",
       "       -2.32024509e+01, -2.27448614e+01, -2.23000820e+01, -2.18553026e+01,\n",
       "       -2.14236419e+01, -2.09919812e+01, -2.05754289e+01, -2.01588766e+01,\n",
       "       -1.97574320e+01, -1.93559875e+01, -1.89713094e+01, -1.85866313e+01,\n",
       "       -1.82183697e+01, -1.78501081e+01, -1.74995582e+01, -1.71490083e+01,\n",
       "       -1.68154462e+01, -1.64818842e+01, -1.61662249e+01, -1.58505656e+01,\n",
       "       -1.55517030e+01, -1.52528405e+01, -1.49713094e+01, -1.46897783e+01,\n",
       "       -1.44240987e+01, -1.41584191e+01, -1.39087622e+01, -1.36591053e+01,\n",
       "       -1.34236419e+01, -1.31881785e+01, -1.29667487e+01, -1.27453189e+01,\n",
       "       -1.25357843e+01, -1.23262497e+01, -1.21281663e+01, -1.19300829e+01,\n",
       "       -1.17410564e+01, -1.15520300e+01, -1.13713920e+01, -1.11907539e+01,\n",
       "       -1.10159188e+01, -1.08410837e+01, -1.06712274e+01, -1.05013711e+01,\n",
       "       -1.03337902e+01, -1.01662092e+01, -1.00000000e+01, -9.83379078e+00,\n",
       "       -9.66666667e+00, -9.49954255e+00, -9.33333333e+00, -9.16712411e+00,\n",
       "       -9.00000000e+00, -8.83287589e+00, -8.66666667e+00, -8.50045745e+00,\n",
       "       -8.33333333e+00, -8.16620922e+00, -8.00000000e+00, -7.83379078e+00,\n",
       "       -7.66666667e+00, -7.49954255e+00, -7.33333333e+00, -7.16712412e+00,\n",
       "       -7.00000000e+00, -6.83287589e+00, -6.66666667e+00, -6.50045745e+00,\n",
       "       -6.33333333e+00, -6.16620922e+00, -6.00000000e+00, -5.83379078e+00,\n",
       "       -5.66666667e+00, -5.49954255e+00, -5.33333333e+00, -5.16712412e+00,\n",
       "       -5.00000000e+00, -4.83287589e+00, -4.66666667e+00, -4.50045745e+00,\n",
       "       -4.33333333e+00, -4.16620922e+00, -4.00000000e+00, -3.83379078e+00,\n",
       "       -3.66666667e+00, -3.49954255e+00, -3.33333333e+00, -3.16712412e+00,\n",
       "       -3.00000000e+00, -2.83287589e+00, -2.66666667e+00, -2.50045745e+00,\n",
       "       -2.33333333e+00, -2.16620922e+00, -2.00000000e+00, -1.83379078e+00,\n",
       "       -1.66666667e+00, -1.49954255e+00, -1.33333333e+00, -1.16712412e+00,\n",
       "       -1.00000000e+00, -8.32875886e-01, -6.66666668e-01, -5.00457449e-01,\n",
       "       -3.33333334e-01, -1.66209219e-01, -9.99999528e-10,  1.66209217e-01,\n",
       "        3.33333332e-01,  5.00457447e-01,  6.66666666e-01,  8.32875884e-01,\n",
       "        9.99999999e-01,  1.16712411e+00,  1.33333333e+00,  1.49954255e+00,\n",
       "        1.66666667e+00,  1.83379078e+00,  2.00000000e+00,  2.16620922e+00,\n",
       "        2.33333333e+00,  2.50045745e+00,  2.66666667e+00,  2.83287588e+00,\n",
       "        3.00000000e+00,  3.16712411e+00,  3.33333333e+00,  3.49954255e+00,\n",
       "        3.66666667e+00,  3.83379078e+00,  4.00000000e+00,  4.16620922e+00,\n",
       "        4.33333333e+00,  4.50045745e+00,  4.66666667e+00,  4.83287588e+00,\n",
       "        5.00000000e+00,  5.16712411e+00,  5.33333333e+00,  5.49954255e+00,\n",
       "        5.66666667e+00,  5.83379078e+00,  6.00000000e+00,  6.16620922e+00,\n",
       "        6.33333333e+00,  6.50045745e+00,  6.66666666e+00,  6.83287588e+00,\n",
       "        7.00000000e+00,  7.16712411e+00,  7.33333333e+00,  7.49954255e+00,\n",
       "        7.66666666e+00,  7.83379078e+00,  8.00000000e+00,  8.16620922e+00,\n",
       "        8.33333333e+00,  8.50045745e+00,  8.66666666e+00,  8.83287588e+00,\n",
       "        9.00000000e+00,  9.16712411e+00,  9.33333333e+00,  9.49954255e+00,\n",
       "        9.66666666e+00,  9.83379078e+00,  1.00000000e+01,  1.01662092e+01,\n",
       "        1.03337902e+01,  1.05013711e+01,  1.06712274e+01,  1.08410837e+01,\n",
       "        1.10159188e+01,  1.11907539e+01,  1.13713920e+01,  1.15520300e+01,\n",
       "        1.17410564e+01,  1.19300829e+01,  1.21281663e+01,  1.23262497e+01,\n",
       "        1.25357843e+01,  1.27453189e+01,  1.29667487e+01,  1.31881785e+01,\n",
       "        1.34236419e+01,  1.36591053e+01,  1.39087622e+01,  1.41584191e+01,\n",
       "        1.44240987e+01,  1.46897783e+01,  1.49713094e+01,  1.52528405e+01,\n",
       "        1.55517030e+01,  1.58505656e+01,  1.61662249e+01,  1.64818842e+01,\n",
       "        1.68154462e+01,  1.71490083e+01,  1.74995582e+01,  1.78501081e+01,\n",
       "        1.82183697e+01,  1.85866313e+01,  1.89713094e+01,  1.93559875e+01,\n",
       "        1.97574320e+01,  2.01588766e+01,  2.05754289e+01,  2.09919812e+01,\n",
       "        2.14236419e+01,  2.18553026e+01,  2.23000820e+01,  2.27448614e+01,\n",
       "        2.32024509e+01,  2.36600404e+01,  2.41281663e+01,  2.45962921e+01,\n",
       "        2.50743898e+01,  2.55524875e+01,  2.60380586e+01,  2.65236298e+01,\n",
       "        2.70159188e+01,  2.75082078e+01,  2.80045607e+01,  2.85009136e+01,\n",
       "        2.90004568e+01,  2.95000000e+01,  3.00000000e+01,  3.05000000e+01,\n",
       "        3.09998550e+01,  3.14997100e+01,  3.19985509e+01,  3.24973917e+01,\n",
       "        3.29949334e+01,  3.34924751e+01,  3.39878584e+01,  3.44832418e+01,\n",
       "        3.49761964e+01,  3.54691511e+01,  3.59588376e+01,  3.64485241e+01,\n",
       "        3.69346966e+01,  3.74208690e+01,  3.79027169e+01,  3.83845648e+01,\n",
       "        3.88618759e+01,  3.93391869e+01,  3.98111885e+01,  4.02831901e+01,\n",
       "        4.07497122e+01,  4.12162342e+01,  4.16765504e+01,  4.21368665e+01,\n",
       "        4.25908566e+01,  4.30448467e+01,  4.34918381e+01,  4.39388295e+01,\n",
       "        4.43787592e+01,  4.48186888e+01,  4.52509442e+01,  4.56831996e+01,\n",
       "        4.61077808e+01,  4.65323620e+01,  4.69487223e+01,  4.73650826e+01,\n",
       "        4.77732900e+01,  4.81814975e+01,  4.85810755e+01,  4.89806534e+01,\n",
       "        4.93717419e+01,  4.97628305e+01,  5.01450261e+01,  5.05272218e+01,\n",
       "        5.09007391e+01,  5.12742564e+01,  5.16387672e+01,  5.20032780e+01,\n",
       "        5.23590724e+01,  5.27148669e+01,  5.30616928e+01,  5.34085187e+01,\n",
       "        5.37467419e+01,  5.40849652e+01,  5.44144088e+01,  5.47438524e+01,\n",
       "        5.50649567e+01,  5.53860610e+01,  5.56987223e+01,  5.60113836e+01,\n",
       "        5.63161141e+01,  5.66208447e+01,  5.69176109e+01,  5.72143771e+01,\n",
       "        5.75037592e+01,  5.77931413e+01,  5.80751714e+01,  5.83572016e+01,\n",
       "        5.86325233e+01,  5.89078449e+01,  5.91765504e+01,  5.94452558e+01,\n",
       "        5.97080455e+01,  5.99708352e+01,  6.02278552e+01,  6.04848751e+01,\n",
       "        6.07368759e+01,  6.09888766e+01,  6.12360503e+01,  6.14832240e+01,\n",
       "        6.17263633e+01,  6.19695025e+01,  6.22088376e+01,  6.24481727e+01,\n",
       "        6.26845298e+01,  6.29208868e+01,  6.31545251e+01,  6.33881634e+01,\n",
       "        6.36199334e+01,  6.38517035e+01,  6.40818842e+01,  6.43120649e+01,\n",
       "        6.45415217e+01,  6.47709784e+01,  6.50000000e+01,  6.50000000e+01,\n",
       "        6.50000000e+01,  6.50000000e+01,  6.50000000e+01,  6.50000000e+01,\n",
       "        6.50000000e+01,  6.50000000e+01,  6.50000000e+01,  6.50000000e+01,\n",
       "        6.50000000e+01,  6.50000000e+01,  6.50000000e+01,  6.50000000e+01,\n",
       "        6.50000000e+01,  6.50000000e+01,  6.50000000e+01,  6.50000000e+01,\n",
       "        6.50000000e+01,  6.50000000e+01,  6.50000000e+01,  6.50000000e+01,\n",
       "        6.50000000e+01,  6.50000000e+01,  6.50000000e+01,  6.50000000e+01,\n",
       "        6.50000000e+01,  6.50000000e+01,  6.50000000e+01,  6.50000000e+01,\n",
       "        6.50000000e+01,  6.50000000e+01,  6.50000000e+01,  6.50000000e+01,\n",
       "        6.50000000e+01,  6.50000000e+01,  6.50000000e+01,  6.50000000e+01,\n",
       "        6.50000000e+01,  6.50000000e+01,  6.50000000e+01,  6.50000000e+01,\n",
       "        6.50000000e+01,  6.50000000e+01,  6.50000000e+01,  6.50000000e+01,\n",
       "        6.50000000e+01,  6.50000000e+01,  6.50000000e+01,  6.50000000e+01,\n",
       "        6.50000000e+01,  6.50000000e+01,  6.50000000e+01,  6.50000000e+01,\n",
       "        6.50000000e+01,  6.50000000e+01,  6.50000000e+01,  6.50000000e+01,\n",
       "        6.50000000e+01,  6.50000000e+01,  6.50000000e+01,  6.50000000e+01,\n",
       "        6.50000000e+01,  6.50000000e+01,  6.50000000e+01,  6.50000000e+01,\n",
       "        6.50000000e+01,  6.50000000e+01,  6.50000000e+01,  6.50000000e+01,\n",
       "        6.50000000e+01,  6.50000000e+01,  6.50000000e+01,  6.50000000e+01,\n",
       "        6.50000000e+01,  6.50000000e+01,  6.50000000e+01,  6.50000000e+01,\n",
       "        6.50000000e+01,  6.50000000e+01,  6.50000000e+01,  6.50000000e+01,\n",
       "        6.50000000e+01,  6.50000000e+01,  6.50000000e+01,  6.50000000e+01,\n",
       "        6.50000000e+01,  6.50000000e+01,  6.50000000e+01,  6.50000000e+01,\n",
       "        6.50000000e+01,  6.50000000e+01,  6.50000000e+01,  6.50000000e+01,\n",
       "        6.50000000e+01,  6.50000000e+01,  6.50000000e+01,  6.50000000e+01,\n",
       "        6.50000000e+01,  6.50000000e+01,  6.50000000e+01,  6.50000000e+01,\n",
       "        6.50000000e+01,  6.50000000e+01,  6.50000000e+01,  6.50000000e+01,\n",
       "        6.50000000e+01,  6.50000000e+01,  6.50000000e+01,  6.50000000e+01,\n",
       "        6.50000000e+01])"
      ]
     },
     "execution_count": 31,
     "metadata": {},
     "output_type": "execute_result"
    }
   ],
   "source": [
    "om2mom1_grid.y.isel(nxp=0).values"
   ]
  },
  {
   "cell_type": "markdown",
   "id": "ebec76b7-200c-4318-bd1a-ad41f84ea0ce",
   "metadata": {},
   "source": [
    "## 0.25 deg\n",
    "\n",
    "### CICE\n",
    "- ulon -280... 79.75  **offset 1 cell to the west!**\n",
    "- tlon -279.875... 79.875\n",
    "\n",
    "**u points at NW corner!!**\n",
    "\n",
    "### MOM supergrid\n",
    "- -280...80"
   ]
  },
  {
   "cell_type": "code",
   "execution_count": 39,
   "id": "f2dcc0b5-948d-4342-b0d7-4c8f612d4ed7",
   "metadata": {},
   "outputs": [
    {
     "data": {
      "text/plain": [
       "array([-280.  , -279.75, -279.5 , ...,   79.25,   79.5 ,   79.75])"
      ]
     },
     "execution_count": 39,
     "metadata": {},
     "output_type": "execute_result"
    }
   ],
   "source": [
    "# om2cice025_grid = xr.open_dataset('/g/data/ik11/inputs/access-om2/input_20201102/cice_025deg/grid.nc')\n",
    "om2cice025_grid = xr.open_dataset('/g/data/ik11/inputs/access-om2/input_20230515_025deg_topog/cice_025deg/grid.nc')\n",
    "np.rad2deg(om2cice025_grid.ulon.isel(ny=0).values)"
   ]
  },
  {
   "cell_type": "code",
   "execution_count": 40,
   "id": "6f5a62b6-1bac-42b8-8e84-39d9ddffb60b",
   "metadata": {},
   "outputs": [
    {
     "data": {
      "text/plain": [
       "array([-279.875, -279.625, -279.375, ...,   79.375,   79.625,   79.875])"
      ]
     },
     "execution_count": 40,
     "metadata": {},
     "output_type": "execute_result"
    }
   ],
   "source": [
    "np.rad2deg(om2cice025_grid.tlon.isel(ny=0).values)"
   ]
  },
  {
   "cell_type": "code",
   "execution_count": 41,
   "id": "328f76e9-ceeb-4bcc-8a29-aae8fec9aed1",
   "metadata": {
    "scrolled": true
   },
   "outputs": [
    {
     "data": {
      "text/plain": [
       "array([-81.02420154, -80.91860295, -80.81300436, ...,  64.97313436,\n",
       "        64.97313436,  64.97313436])"
      ]
     },
     "execution_count": 41,
     "metadata": {},
     "output_type": "execute_result"
    }
   ],
   "source": [
    "np.rad2deg(om2cice025_grid.ulat.isel(nx=0).values)"
   ]
  },
  {
   "cell_type": "code",
   "execution_count": 42,
   "id": "8cadf118-f076-4014-865d-149ef4085edb",
   "metadata": {
    "scrolled": true
   },
   "outputs": [
    {
     "data": {
      "text/plain": [
       "array([-81.07700083, -80.97140224, -80.86580366, ...,  65.02595119,\n",
       "        65.02595847,  65.0259621 ])"
      ]
     },
     "execution_count": 42,
     "metadata": {},
     "output_type": "execute_result"
    }
   ],
   "source": [
    "np.rad2deg(om2cice025_grid.tlat.isel(nx=0).values)"
   ]
  },
  {
   "cell_type": "code",
   "execution_count": 44,
   "id": "c14607b4-816f-4902-a6c9-05ad44b86ef4",
   "metadata": {
    "scrolled": true
   },
   "outputs": [
    {
     "data": {
      "text/plain": [
       "array([-280.   , -279.875, -279.75 , ...,   79.75 ,   79.875,   80.   ])"
      ]
     },
     "execution_count": 44,
     "metadata": {},
     "output_type": "execute_result"
    }
   ],
   "source": [
    "# om2mom025_grid = xr.open_dataset('/g/data/ik11/inputs/access-om2/input_20201102/mom_025deg/ocean_hgrid.nc')\n",
    "om2mom025_grid = xr.open_dataset('/g/data/ik11/inputs/access-om2/input_20230515_025deg_topog/mom_025deg/ocean_hgrid.nc')\n",
    "om2mom025_grid.x.isel(nyp=0).values"
   ]
  },
  {
   "cell_type": "code",
   "execution_count": 45,
   "id": "cba40688-35c7-423e-b8e3-2fc813056a1e",
   "metadata": {
    "scrolled": true
   },
   "outputs": [
    {
     "data": {
      "text/plain": [
       "array([-81.12980013, -81.07700083, -81.02420154, ...,  64.97313436,\n",
       "        64.97313436,  64.97313436])"
      ]
     },
     "execution_count": 45,
     "metadata": {},
     "output_type": "execute_result"
    }
   ],
   "source": [
    "om2mom025_grid.y.isel(nxp=0).values"
   ]
  },
  {
   "cell_type": "markdown",
   "id": "6d2b9693-8877-40b0-89f1-3fe3ed502366",
   "metadata": {},
   "source": [
    "## 0.1 deg\n",
    "\n",
    "### CICE\n",
    "- ulon -279.9... 80\n",
    "- tlon -279.95... 79.95\n",
    "\n",
    "u points at NE corner\n",
    "\n",
    "### MOM supergrid\n",
    "- -280...80"
   ]
  },
  {
   "cell_type": "code",
   "execution_count": 26,
   "id": "dcc847a2-9191-4c72-a023-e31d0cf87495",
   "metadata": {},
   "outputs": [
    {
     "data": {
      "text/plain": [
       "array([-279.9, -279.8, -279.7, ...,   79.8,   79.9,   80. ])"
      ]
     },
     "execution_count": 26,
     "metadata": {},
     "output_type": "execute_result"
    }
   ],
   "source": [
    "om2cice01_grid = xr.open_dataset('/g/data/ik11/inputs/access-om2/input_20201102/cice_01deg/grid.nc')\n",
    "np.rad2deg(om2cice01_grid.ulon.isel(ny=0).values)"
   ]
  },
  {
   "cell_type": "code",
   "execution_count": 27,
   "id": "084fa975-a85a-41d4-8837-0ac4393cde3b",
   "metadata": {},
   "outputs": [
    {
     "data": {
      "text/plain": [
       "array([-279.95, -279.85, -279.75, ...,   79.75,   79.85,   79.95])"
      ]
     },
     "execution_count": 27,
     "metadata": {},
     "output_type": "execute_result"
    }
   ],
   "source": [
    "np.rad2deg(om2cice01_grid.tlon.isel(ny=0).values)"
   ]
  },
  {
   "cell_type": "code",
   "execution_count": 34,
   "id": "29272430-9f26-4c97-8fef-fdc80aaf15f6",
   "metadata": {
    "scrolled": true
   },
   "outputs": [
    {
     "data": {
      "text/plain": [
       "array([-81.087512  , -81.04527265, -81.00303329, ...,  65.03653872,\n",
       "        65.03653942,  65.03653965])"
      ]
     },
     "execution_count": 34,
     "metadata": {},
     "output_type": "execute_result"
    }
   ],
   "source": [
    "np.rad2deg(om2cice01_grid.ulat.isel(nx=0).values)"
   ]
  },
  {
   "cell_type": "code",
   "execution_count": 35,
   "id": "fc3f9cfe-1fb0-466c-b666-ce26bae43863",
   "metadata": {
    "scrolled": true
   },
   "outputs": [
    {
     "data": {
      "text/plain": [
       "array([-81.10863168, -81.06639232, -81.02415297, ...,  65.01542854,\n",
       "        65.01542901,  65.01542924])"
      ]
     },
     "execution_count": 35,
     "metadata": {},
     "output_type": "execute_result"
    }
   ],
   "source": [
    "np.rad2deg(om2cice01_grid.tlat.isel(nx=0).values)"
   ]
  },
  {
   "cell_type": "code",
   "execution_count": 28,
   "id": "3842e7f7-624f-4274-b03c-1f95ea45e5e4",
   "metadata": {},
   "outputs": [
    {
     "data": {
      "text/plain": [
       "array([-280.  , -279.95, -279.9 , ...,   79.9 ,   79.95,   80.  ])"
      ]
     },
     "execution_count": 28,
     "metadata": {},
     "output_type": "execute_result"
    }
   ],
   "source": [
    "om2mom01_grid = xr.open_dataset('/g/data/ik11/inputs/access-om2/input_20201102/mom_01deg/ocean_hgrid.nc')\n",
    "om2mom01_grid.x.isel(nyp=0).values"
   ]
  },
  {
   "cell_type": "code",
   "execution_count": 38,
   "id": "317e5c15-4311-42ba-aa52-8c2876725eac",
   "metadata": {
    "scrolled": true
   },
   "outputs": [
    {
     "data": {
      "text/plain": [
       "array([-81.12975136, -81.10863168, -81.087512  , ...,  64.99430221,\n",
       "        64.99430221,  64.99430221])"
      ]
     },
     "execution_count": 38,
     "metadata": {},
     "output_type": "execute_result"
    }
   ],
   "source": [
    "om2mom01_grid.y.isel(nxp=0).values"
   ]
  },
  {
   "cell_type": "code",
   "execution_count": null,
   "id": "581179a8-f092-4c2d-b750-117d0d33eec2",
   "metadata": {},
   "outputs": [],
   "source": []
  }
 ],
 "metadata": {
  "kernelspec": {
   "display_name": "Python [conda env:analysis3-23.10] *",
   "language": "python",
   "name": "conda-env-analysis3-23.10-py"
  },
  "language_info": {
   "codemirror_mode": {
    "name": "ipython",
    "version": 3
   },
   "file_extension": ".py",
   "mimetype": "text/x-python",
   "name": "python",
   "nbconvert_exporter": "python",
   "pygments_lexer": "ipython3",
   "version": "3.10.13"
  }
 },
 "nbformat": 4,
 "nbformat_minor": 5
}
