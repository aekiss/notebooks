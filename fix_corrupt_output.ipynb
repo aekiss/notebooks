{
 "cells": [
  {
   "cell_type": "markdown",
   "metadata": {},
   "source": [
    "# Fix_corrupt_output\n",
    "Fix a corrupt variable in a daily file by replacing it with the monthly mean times the number of days, minus the sum of the other dailies"
   ]
  },
  {
   "cell_type": "code",
   "execution_count": 1,
   "metadata": {},
   "outputs": [],
   "source": [
    "import xarray as xr\n",
    "from glob import glob\n",
    "from shutil import copyfile\n",
    "from datetime import timedelta"
   ]
  },
  {
   "cell_type": "code",
   "execution_count": 2,
   "metadata": {},
   "outputs": [],
   "source": [
    "badvar = 'frazil'  # name of corrupt var\n",
    "monthsuffix = '_m'  # suffix for monthly variables (eg for CICE data)\n",
    "\n",
    "mfile = '/scratch/x77/aek156/access-om2/archive/01deg_jra55v140_iaf_cycle3/output518/ice/OUTPUT/iceh.1965-08.nc'  # good monthly mean file\n",
    "\n",
    "fpath = '/scratch/v45/aek156/access-om2/archive/01deg_jra55v140_iaf_cycle3/output518/ice/OUTPUT/'  # path to daily files\n",
    "prevfile = 'iceh.1965-08-16.nc'  # file before badfile\n",
    "badfile = 'iceh.1965-08-17.nc'  # file with corrupt variable \"badvar\" -- now renamed to iceh.1965-08-17.nc-CORRUPT-frazil\n",
    "fixedfn = badfile+'-fixed-'+badvar # to be created by this script"
   ]
  },
  {
   "cell_type": "code",
   "execution_count": 3,
   "metadata": {},
   "outputs": [],
   "source": [
    "goodfiles = [x for x in glob(fpath+'iceh.1965-08-??.nc') if badfile not in x]\n",
    "goodfiles.sort()"
   ]
  },
  {
   "cell_type": "code",
   "execution_count": 4,
   "metadata": {},
   "outputs": [],
   "source": [
    "# calculate replacement value of badvar in badfile required to make the monthly mean match that in mfile\n",
    "prevvar = xr.open_dataset(fpath+prevfile)[badvar]\n",
    "fixedvar = prevvar  # start with previous day's dataarray\n",
    "\n",
    "fixedvar.data = (len(goodfiles) + 1)*xr.open_dataset(mfile)[badvar+monthsuffix].data  #rename(badvar)\n",
    "\n",
    "for f in goodfiles:\n",
    "    fixedvar.data -= xr.open_dataset(f)[badvar].data\n",
    "\n",
    "fixedvar = fixedvar.clip(min=0.0)  # ensure values are non-negative (which can happen due to roundoff)\n",
    "fixedvar = fixedvar.where(prevvar.notnull(), prevvar.encoding['_FillValue'])  # reinstate mask from prevvar\n",
    "fixedvar.attrs = prevvar.attrs\n",
    "fixedvar.encoding = prevvar.encoding\n",
    "fixedvar.encoding['source'] = fpath+badfile\n",
    "\n",
    "# now put fixedvar into .nc file\n",
    "fixedds = xr.open_dataset(fpath+badfile, drop_variables=badvar)\n",
    "fixedvar['time'] = fixedds['time']\n",
    "fixedds = eval('fixedds.assign('+badvar+'=fixedvar)')\n",
    "\n",
    "# there are some attribute differences in time and time_bounds but hopefully they don't matter too much\n",
    "\n",
    "fixedds.to_netcdf(fpath+fixedfn)"
   ]
  }
 ],
 "metadata": {
  "kernelspec": {
   "display_name": "Python [conda env:analysis3-20.10]",
   "language": "python",
   "name": "conda-env-analysis3-20.10-py"
  },
  "language_info": {
   "codemirror_mode": {
    "name": "ipython",
    "version": 3
   },
   "file_extension": ".py",
   "mimetype": "text/x-python",
   "name": "python",
   "nbconvert_exporter": "python",
   "pygments_lexer": "ipython3",
   "version": "3.8.6"
  }
 },
 "nbformat": 4,
 "nbformat_minor": 4
}
