{
 "cells": [
  {
   "cell_type": "markdown",
   "metadata": {},
   "source": [
    "# Check PIO output\n",
    "checking PIO output support\n",
    "https://github.com/COSIMA/cice5/pull/48\n",
    "in production run"
   ]
  },
  {
   "cell_type": "code",
   "execution_count": 1,
   "metadata": {},
   "outputs": [],
   "source": [
    "import xarray as xr\n",
    "from glob import glob"
   ]
  },
  {
   "cell_type": "code",
   "execution_count": 11,
   "metadata": {},
   "outputs": [],
   "source": [
    "ctrl = '/scratch/x77/aek156/access-om2/archive/01deg_jra55v140_iaf_cycle2/output356/'\n",
    "# test = '/scratch/x77/aek156/access-om2/archive/01deg_jra55v140_iaf_cycle2_pio_test/output356/'\n",
    "test = '/scratch/x77/aek156/access-om2/archive/01deg_jra55v140_iaf_cycle2_pio_test2/output356/'"
   ]
  },
  {
   "cell_type": "code",
   "execution_count": 12,
   "metadata": {},
   "outputs": [],
   "source": [
    "ctrlFiles = glob(ctrl+'ice/OUTPUT/*')\n",
    "ctrlFiles.sort()\n",
    "testFiles = glob(test+'ice/OUTPUT/*')\n",
    "testFiles.sort()"
   ]
  },
  {
   "cell_type": "code",
   "execution_count": 19,
   "metadata": {},
   "outputs": [
    {
     "name": "stdout",
     "output_type": "stream",
     "text": [
      "All ok\n"
     ]
    }
   ],
   "source": [
    "ok = True\n",
    "for ctrlFile, testFile in zip(ctrlFiles, testFiles):\n",
    "#     print(ctrlFile)\n",
    "#     print(testFile)\n",
    "    c = xr.open_dataset(ctrlFile)\n",
    "    t = xr.open_dataset(testFile)\n",
    "#     c.tmask.attrs.update(t.tmask.attrs)\n",
    "#     c.attrs.update(t.attrs)\n",
    "#     c.tmask.attrs.update({'comment': t.tmask.comment})\n",
    "    c.attrs.update({'comment': t.comment})\n",
    "    c.attrs.update({'time_period_freq': t.time_period_freq})\n",
    "    c.attrs.update({'history': t.history})\n",
    "    c.attrs.update({'io_flavor': t.io_flavor})\n",
    "    equal = c.equals(t)\n",
    "    identical = c.identical(t)\n",
    "    if not (equal and identical):\n",
    "        ok = False\n",
    "        print(ctrlFile)\n",
    "        print(testFile)\n",
    "        print(equal, identical)\n",
    "        cvars = list(c.keys())\n",
    "        cvars.sort()\n",
    "        tvars = list(t.keys())\n",
    "        tvars.sort()\n",
    "        for cvar, tvar in zip(cvars, tvars):\n",
    "            print('    ', cvar, tvar, c[cvar].equals(t[tvar]), c[cvar].identical(t[tvar]))\n",
    "        print()\n",
    "if ok:\n",
    "    print('All ok')"
   ]
  }
 ],
 "metadata": {
  "kernelspec": {
   "display_name": "Python [conda env:analysis3-20.04] *",
   "language": "python",
   "name": "conda-env-analysis3-20.04-py"
  },
  "language_info": {
   "codemirror_mode": {
    "name": "ipython",
    "version": 3
   },
   "file_extension": ".py",
   "mimetype": "text/x-python",
   "name": "python",
   "nbconvert_exporter": "python",
   "pygments_lexer": "ipython3",
   "version": "3.7.6"
  }
 },
 "nbformat": 4,
 "nbformat_minor": 4
}
