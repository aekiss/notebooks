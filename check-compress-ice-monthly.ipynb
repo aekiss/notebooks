{
 "cells": [
  {
   "cell_type": "markdown",
   "metadata": {},
   "source": [
    "# Check compressed monthly ice output files\n",
    "Check monthly ice outputs compressed with\n",
    "```\n",
    "/short/v45/aek156/access-om2/control/01deg_jra55_iaf/compress_ice_monthlies-ALL.sh\n",
    "```\n"
   ]
  },
  {
   "cell_type": "code",
   "execution_count": 1,
   "metadata": {},
   "outputs": [],
   "source": [
    "import xarray as xr\n",
    "import glob"
   ]
  },
  {
   "cell_type": "code",
   "execution_count": 9,
   "metadata": {},
   "outputs": [],
   "source": [
    "original = '/g/data3/hh5/tmp/cosima/access-om2-01/01deg_jra55v13_iaf/output197/ice/OUTPUT/iceh.2017-11.nc'\n",
    "compressed = '/g/data3/hh5/tmp/cosima/access-om2-01/01deg_jra55v13_iaf/output197/ice/OUTPUT/iceh.2017-11-test.nc'"
   ]
  },
  {
   "cell_type": "code",
   "execution_count": 11,
   "metadata": {
    "scrolled": true
   },
   "outputs": [
    {
     "name": "stdout",
     "output_type": "stream",
     "text": [
      "True\n"
     ]
    }
   ],
   "source": [
    "ds_original = xr.open_dataset(original)\n",
    "ds_compressed = xr.open_dataset(compressed)\n",
    "\n",
    "# don't check the following\n",
    "# ds_original.attrs.update({'_NCProperties': ds_compressed._NCProperties})\n",
    "\n",
    "print(ds_original.identical(ds_compressed))"
   ]
  },
  {
   "cell_type": "code",
   "execution_count": null,
   "metadata": {},
   "outputs": [],
   "source": []
  }
 ],
 "metadata": {
  "kernelspec": {
   "display_name": "Python [conda env:analysis3-18.10]",
   "language": "python",
   "name": "conda-env-analysis3-18.10-py"
  },
  "language_info": {
   "codemirror_mode": {
    "name": "ipython",
    "version": 3
   },
   "file_extension": ".py",
   "mimetype": "text/x-python",
   "name": "python",
   "nbconvert_exporter": "python",
   "pygments_lexer": "ipython3",
   "version": "3.6.7"
  }
 },
 "nbformat": 4,
 "nbformat_minor": 2
}
