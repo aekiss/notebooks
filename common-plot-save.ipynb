{
 "cells": [
  {
   "cell_type": "markdown",
   "metadata": {},
   "source": [
    "## Common plot-saving code (use this in all notebooks)\n",
    "**Use `savefigure('my-plot-name.png')` to save figures.** This will put them in a subdirectory of `figures` with the same name as this script so they will be easy to find. \n",
    "\n",
    "`savefigure` is defined below. Set `disable_savefig=True` to disable saving, so you can run this notebook without overwriting figures already created."
   ]
  },
  {
   "cell_type": "code",
   "execution_count": 1,
   "metadata": {},
   "outputs": [
    {
     "data": {
      "application/javascript": [
       "Jupyter.notebook.kernel.execute(\"nbfullpath = '\" + Jupyter.notebook.notebook_path + \"'\");"
      ],
      "text/plain": [
       "<IPython.core.display.Javascript object>"
      ]
     },
     "metadata": {},
     "output_type": "display_data"
    }
   ],
   "source": [
    "%%javascript\n",
    "Jupyter.notebook.kernel.execute(\"nbfullpath = '\" + Jupyter.notebook.notebook_path + \"'\");"
   ]
  },
  {
   "cell_type": "code",
   "execution_count": null,
   "metadata": {},
   "outputs": [],
   "source": [
    "disable_savefig = False  # set to True to disable saving with savefigure\n",
    "from os.path import join, basename, splitext\n",
    "try:\n",
    "    figdir = join('..', 'figures', splitext(basename(nbfullpath))[0])\n",
    "except NameError:  # typically get nbfullpath undefined error when doing Run All\n",
    "    print ('Oops, try re-running the javascript cell above and then run this cell again.')\n",
    "    raise  # stop script\n",
    "if not os.path.exists(figdir):\n",
    "    os.makedirs (figdir)\n",
    "def savefigure(fname):\n",
    "    if not(disable_savefig):\n",
    "        plt.savefig(join(figdir, fname),dpi=150, bbox_inches=\"tight\")  # comment out to disable saving\n",
    "    return"
   ]
  }
 ],
 "metadata": {
  "kernelspec": {
   "display_name": "Python [conda env:analysis3]",
   "language": "python",
   "name": "conda-env-analysis3-py"
  },
  "language_info": {
   "codemirror_mode": {
    "name": "ipython",
    "version": 3
   },
   "file_extension": ".py",
   "mimetype": "text/x-python",
   "name": "python",
   "nbconvert_exporter": "python",
   "pygments_lexer": "ipython3",
   "version": "3.6.4"
  }
 },
 "nbformat": 4,
 "nbformat_minor": 2
}
